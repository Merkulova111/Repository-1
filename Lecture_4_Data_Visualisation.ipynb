{
  "cells": [
    {
      "cell_type": "markdown",
      "metadata": {
        "id": "view-in-github",
        "colab_type": "text"
      },
      "source": [
        "<a href=\"https://colab.research.google.com/github/Merkulova111/Repository-1/blob/main/Lecture_4_Data_Visualisation.ipynb\" target=\"_parent\"><img src=\"https://colab.research.google.com/assets/colab-badge.svg\" alt=\"Open In Colab\"/></a>"
      ]
    },
    {
      "cell_type": "markdown",
      "id": "2cfe5400",
      "metadata": {
        "pycharm": {
          "name": "#%% md\n"
        },
        "id": "2cfe5400"
      },
      "source": [
        "# Візуалізація даних"
      ]
    },
    {
      "cell_type": "markdown",
      "id": "9fac205a",
      "metadata": {
        "pycharm": {
          "name": "#%% md\n"
        },
        "id": "9fac205a"
      },
      "source": [
        "## План заняття\n",
        "1. Поняття візуалізації даних.\n",
        "2. Візуалізація даних за допомогою matplotlib\n",
        "3. Базові типи візуалізацій (line chart, scatter plot, bar plot, histogram)\n",
        "4. Кілька графіків на одній візуалізації\n",
        "5. Візуалізація даних у Pandas\n",
        "6. Візуалізація даних за допомогою seaborn"
      ]
    },
    {
      "cell_type": "markdown",
      "id": "d8acef96",
      "metadata": {
        "id": "d8acef96"
      },
      "source": [
        "# Що таке візуалізація даних"
      ]
    },
    {
      "cell_type": "markdown",
      "id": "15de7dc9",
      "metadata": {
        "id": "15de7dc9"
      },
      "source": [
        "**Візуалізація даних** — це графічне представлення інформації та даних. Використовуючи такі візуальні елементи, як діаграми, графіки та карти, інструменти візуалізації даних забезпечують доступний спосіб перегляду та розуміння тенденцій, викидів і закономірностей у даних.\n",
        "\n",
        "Візуалізація даних дозволяє переглянути великий набір даних, що ми не завжди можемо зробити вручну, або робили б це дуже довго.\n",
        "Візуалізація даних може бути\n",
        "- статичною: намалювали графік один раз і він є картинкою - не змінюється\n",
        "- інтерактивною: кінцевий користувач може взаємодіяти з графіком, графік від того може дозволяти фільтрувати дані, робити виділення окремих точок в даних.\n",
        "\n",
        "Є дуже багато способів відобразити різні дані.\n",
        "Є корисний сайт, де зібрані найбільш вживані типи візуалізацій - https://datavizcatalogue.com/ і якщо ви не знаєте, як візуалізувати свої дані - можна взяти натхнення тут.\n",
        "Також для повторення існуючих типів візуалізацій може бути корисною наступна [стаття](https://www.datylon.com/blog/types-of-charts-graphs-examples-data-visualization) про різні типи візуалізацій.\n",
        "Також аби навчитись розповідати історії з допомогою даних - рекомендую для прочитання книгу [Storytelling with data](https://www.amazon.com/gp/product/1119002257/)."
      ]
    },
    {
      "cell_type": "markdown",
      "id": "736664f0",
      "metadata": {
        "id": "736664f0"
      },
      "source": [
        "## Візуалізація даних в Python"
      ]
    },
    {
      "cell_type": "markdown",
      "id": "7464916e",
      "metadata": {
        "ExecuteTime": {
          "end_time": "2022-11-07T10:31:35.881233Z",
          "start_time": "2022-11-07T10:31:35.877199Z"
        },
        "id": "7464916e"
      },
      "source": [
        "Бібліотек для візуалізацій існує багато. Ми розглянемо для початку наступні:\n",
        "- Matplotlib — базова бібліотека для візуалізації даних в Python.\n",
        "- Seaborn — бібліотека для створення статистичних графіків на Python. Вона побудована на основі matplotlib і тісно інтегрована зі структурами даних pandas. Seaborn - це обгортка matplotlib зі зручнішим інтерфейсом у деяких випадках і приємнішим стандартним стилем."
      ]
    },
    {
      "cell_type": "markdown",
      "id": "282b1400",
      "metadata": {
        "pycharm": {
          "name": "#%% md\n"
        },
        "id": "282b1400"
      },
      "source": [
        "## Анатомія діаграми в matplotlib"
      ]
    },
    {
      "cell_type": "markdown",
      "source": [
        "![](https://drive.google.com/uc?export=view&id=14Kwozr-FO2tNl1uELGLVOywPftO3mjCB)"
      ],
      "metadata": {
        "id": "nCJCwqtSOtcR"
      },
      "id": "nCJCwqtSOtcR"
    },
    {
      "cell_type": "markdown",
      "id": "20e1163f",
      "metadata": {
        "pycharm": {
          "name": "#%% md\n"
        },
        "id": "20e1163f"
      },
      "source": [
        "## Кожна фігура складається з \"панелей\"\n",
        "Кожна панель має свої осі ОХ і ОУ, але вони можуть і синхронізуватися між панелями."
      ]
    },
    {
      "cell_type": "markdown",
      "source": [
        "![](https://drive.google.com/uc?export=view&id=1MXvOnpXw84STCQYWNPWIHHQ9vLM2WrhT)"
      ],
      "metadata": {
        "id": "CvcvE16jO5ra"
      },
      "id": "CvcvE16jO5ra"
    },
    {
      "cell_type": "markdown",
      "id": "da1887b3",
      "metadata": {
        "pycharm": {
          "name": "#%% md\n"
        },
        "id": "da1887b3"
      },
      "source": [
        "# Візуалізація даних за допомогою matplotlib"
      ]
    },
    {
      "cell_type": "markdown",
      "id": "b410f18d",
      "metadata": {
        "pycharm": {
          "name": "#%% md\n"
        },
        "id": "b410f18d"
      },
      "source": [
        "Імпорт бібліотек:"
      ]
    },
    {
      "cell_type": "code",
      "execution_count": null,
      "id": "15b94d09",
      "metadata": {
        "ExecuteTime": {
          "end_time": "2022-11-08T12:33:31.957790Z",
          "start_time": "2022-11-08T12:33:29.834602Z"
        },
        "pycharm": {
          "name": "#%%\n"
        },
        "id": "15b94d09"
      },
      "outputs": [],
      "source": [
        "import numpy as np\n",
        "import pandas as pd\n",
        "from matplotlib import pyplot as plt # or  import matplotlib.pyplot as plt"
      ]
    },
    {
      "cell_type": "markdown",
      "id": "4d30a85a",
      "metadata": {
        "ExecuteTime": {
          "end_time": "2021-09-05T14:30:24.149652Z",
          "start_time": "2021-09-05T14:30:24.145904Z"
        },
        "pycharm": {
          "name": "#%% md\n"
        },
        "id": "4d30a85a"
      },
      "source": [
        "На цьому етапі у нас не відображатимуться графіки. Вбудувати відображення графіків можемо двома способами:  \n",
        "\n",
        "- `%matplotlib notebook` призведе до інтерактивних графіків, вбудованих у ноутбук\n",
        "\n",
        "- `%matplotlib inline` призведе до статичного відображення графіків, вбудованих у ноутбук (зазвичай я імпортую у такий спосіб - так під час збереження ноутбуків і повторного відкриття графіки мають компактніший вигляд)"
      ]
    },
    {
      "cell_type": "code",
      "execution_count": null,
      "id": "73832e00",
      "metadata": {
        "ExecuteTime": {
          "end_time": "2022-11-08T12:33:32.151789Z",
          "start_time": "2022-11-08T12:33:31.961421Z"
        },
        "pycharm": {
          "name": "#%%\n"
        },
        "id": "73832e00"
      },
      "outputs": [],
      "source": [
        "%matplotlib inline"
      ]
    },
    {
      "cell_type": "markdown",
      "id": "fdece8d5",
      "metadata": {
        "pycharm": {
          "name": "#%% md\n"
        },
        "id": "fdece8d5"
      },
      "source": [
        "# Побудова базових графіків"
      ]
    },
    {
      "cell_type": "markdown",
      "id": "068dc9f1",
      "metadata": {
        "ExecuteTime": {
          "end_time": "2022-11-07T10:27:36.456911Z",
          "start_time": "2022-11-07T10:27:36.451537Z"
        },
        "id": "068dc9f1"
      },
      "source": [
        "Документація matplotlib: https://matplotlib.org/stable/index.html"
      ]
    },
    {
      "cell_type": "markdown",
      "id": "6c845e26",
      "metadata": {
        "pycharm": {
          "name": "#%% md\n"
        },
        "id": "6c845e26"
      },
      "source": [
        "## Лінійний графік"
      ]
    },
    {
      "cell_type": "markdown",
      "id": "e85d0380",
      "metadata": {
        "ExecuteTime": {
          "end_time": "2021-09-05T14:32:38.901117Z",
          "start_time": "2021-09-05T14:32:38.897256Z"
        },
        "pycharm": {
          "name": "#%% md\n"
        },
        "id": "e85d0380"
      },
      "source": [
        "Лінійний графік `plot` дає змогу візуалізувати залежність y від x, тобто функції виду $y = f(x)$ ."
      ]
    },
    {
      "cell_type": "markdown",
      "source": [
        "![](https://drive.google.com/uc?export=view&id=1rb6eZF4XjVDRVupYjf5dthaW9LpKjDdj)"
      ],
      "metadata": {
        "id": "MTqI-6sSPFYl"
      },
      "id": "MTqI-6sSPFYl"
    },
    {
      "cell_type": "markdown",
      "id": "9d0e2717",
      "metadata": {
        "id": "9d0e2717"
      },
      "source": [
        "Як будувати:"
      ]
    },
    {
      "cell_type": "code",
      "execution_count": null,
      "id": "04c53453",
      "metadata": {
        "ExecuteTime": {
          "end_time": "2022-11-08T12:33:34.936906Z",
          "start_time": "2022-11-08T12:33:34.933267Z"
        },
        "pycharm": {
          "name": "#%%\n"
        },
        "id": "04c53453"
      },
      "outputs": [],
      "source": [
        "x = np.linspace(0, 10, 100)"
      ]
    },
    {
      "cell_type": "code",
      "execution_count": null,
      "id": "779bb23d",
      "metadata": {
        "ExecuteTime": {
          "end_time": "2022-11-08T12:33:35.095177Z",
          "start_time": "2022-11-08T12:33:35.086545Z"
        },
        "id": "779bb23d"
      },
      "outputs": [],
      "source": [
        "x"
      ]
    },
    {
      "cell_type": "code",
      "execution_count": null,
      "id": "f3ae4735",
      "metadata": {
        "ExecuteTime": {
          "end_time": "2022-11-08T12:33:35.508558Z",
          "start_time": "2022-11-08T12:33:35.286779Z"
        },
        "pycharm": {
          "name": "#%%\n"
        },
        "id": "f3ae4735"
      },
      "outputs": [],
      "source": [
        "y = np.sin(x)\n",
        "plt.plot(y)"
      ]
    },
    {
      "cell_type": "code",
      "execution_count": null,
      "id": "56ff54b1",
      "metadata": {
        "ExecuteTime": {
          "end_time": "2022-11-08T12:33:35.515868Z",
          "start_time": "2022-11-08T12:33:35.511642Z"
        },
        "id": "56ff54b1"
      },
      "outputs": [],
      "source": [
        "len(y)"
      ]
    },
    {
      "cell_type": "markdown",
      "id": "ffef90a4",
      "metadata": {
        "ExecuteTime": {
          "end_time": "2021-09-05T14:59:05.143391Z",
          "start_time": "2021-09-05T14:59:05.140238Z"
        },
        "pycharm": {
          "name": "#%% md\n"
        },
        "id": "ffef90a4"
      },
      "source": [
        "Додаємо в кінці `;` щоб не друкувати зайвого."
      ]
    },
    {
      "cell_type": "code",
      "execution_count": null,
      "id": "2f1215ab",
      "metadata": {
        "ExecuteTime": {
          "end_time": "2022-11-08T12:33:35.908321Z",
          "start_time": "2022-11-08T12:33:35.720790Z"
        },
        "pycharm": {
          "name": "#%%\n"
        },
        "id": "2f1215ab"
      },
      "outputs": [],
      "source": [
        "plt.plot(np.sin(x));"
      ]
    },
    {
      "cell_type": "markdown",
      "id": "a9eafad6",
      "metadata": {
        "pycharm": {
          "name": "#%% md\n"
        },
        "id": "a9eafad6"
      },
      "source": [
        "Можемо задати значення осі x:"
      ]
    },
    {
      "cell_type": "code",
      "execution_count": null,
      "id": "fd386065",
      "metadata": {
        "ExecuteTime": {
          "end_time": "2022-11-08T12:33:36.461562Z",
          "start_time": "2022-11-08T12:33:36.272919Z"
        },
        "pycharm": {
          "name": "#%%\n"
        },
        "id": "fd386065"
      },
      "outputs": [],
      "source": [
        "plt.plot(x, np.sin(x));"
      ]
    },
    {
      "cell_type": "markdown",
      "id": "c711e18e",
      "metadata": {
        "pycharm": {
          "name": "#%% md\n"
        },
        "id": "c711e18e"
      },
      "source": [
        "Можемо побудувати кілька ліній на одній фігурі."
      ]
    },
    {
      "cell_type": "code",
      "execution_count": null,
      "id": "48544d17",
      "metadata": {
        "ExecuteTime": {
          "end_time": "2022-11-08T12:33:36.958422Z",
          "start_time": "2022-11-08T12:33:36.768029Z"
        },
        "pycharm": {
          "name": "#%%\n"
        },
        "id": "48544d17"
      },
      "outputs": [],
      "source": [
        "plt.plot(x, np.sin(x))\n",
        "plt.plot(x, np.cos(x));"
      ]
    },
    {
      "cell_type": "code",
      "execution_count": null,
      "id": "f63ddf50",
      "metadata": {
        "ExecuteTime": {
          "end_time": "2022-11-08T12:33:37.116743Z",
          "start_time": "2022-11-08T12:33:36.961323Z"
        },
        "id": "f63ddf50"
      },
      "outputs": [],
      "source": [
        "for i in range(1,11):\n",
        "    plt.plot(x, np.sin(x) + i)\n",
        "plt.show();"
      ]
    },
    {
      "cell_type": "markdown",
      "id": "d3c71b1e",
      "metadata": {
        "id": "d3c71b1e"
      },
      "source": [
        "Інший спосіб:"
      ]
    },
    {
      "cell_type": "code",
      "execution_count": null,
      "id": "00259835",
      "metadata": {
        "ExecuteTime": {
          "end_time": "2022-11-08T12:33:37.560586Z",
          "start_time": "2022-11-08T12:33:37.369575Z"
        },
        "pycharm": {
          "name": "#%%\n"
        },
        "id": "00259835"
      },
      "outputs": [],
      "source": [
        "plt.plot(x, np.sin(x), x, np.cos(x));"
      ]
    },
    {
      "cell_type": "markdown",
      "id": "051268df",
      "metadata": {
        "pycharm": {
          "name": "#%% md\n"
        },
        "id": "051268df"
      },
      "source": [
        "Кольори для різних ліній чергуються за замовчуванням. Але ми можемо їх задати, причому різними способами:"
      ]
    },
    {
      "cell_type": "code",
      "execution_count": null,
      "id": "4dd716ca",
      "metadata": {
        "ExecuteTime": {
          "end_time": "2022-11-08T12:33:37.928735Z",
          "start_time": "2022-11-08T12:33:37.724810Z"
        },
        "pycharm": {
          "name": "#%%\n"
        },
        "id": "4dd716ca"
      },
      "outputs": [],
      "source": [
        "plt.plot(x, np.sin(x - 0), color='blue')        # за іменем\n",
        "plt.plot(x, np.sin(x - 1), color='g')           # за короткою назвою (rgbcmyk)\n",
        "plt.plot(x, np.sin(x - 2), color='0.75')        # відтінки сірого від 0 до 1\n",
        "plt.plot(x, np.sin(x - 3), color='#FFDD44')     # Hex код (RRGGBB від 00 до FF)\n",
        "plt.plot(x, np.sin(x - 4), color=(1.0,0.2,0.3)) # RGB кортеж, значення від 0 до 1\n",
        "plt.plot(x, np.sin(x - 5), color='chartreuse');  # підтримуються також усі CSS назви кольорів"
      ]
    },
    {
      "cell_type": "markdown",
      "id": "e83aefab",
      "metadata": {
        "ExecuteTime": {
          "end_time": "2021-09-05T15:04:58.843508Z",
          "start_time": "2021-09-05T15:04:58.840315Z"
        },
        "pycharm": {
          "name": "#%% md\n"
        },
        "id": "e83aefab"
      },
      "source": [
        "Які є кольори за назвами можна знайти [тут](https://matplotlib.org/stable/gallery/color/named_colors.html).\n"
      ]
    },
    {
      "cell_type": "markdown",
      "id": "41534cec",
      "metadata": {
        "pycharm": {
          "name": "#%% md\n"
        },
        "id": "41534cec"
      },
      "source": [
        "Ми також можемо задавати стиль лінії, за назвою або символами:"
      ]
    },
    {
      "cell_type": "code",
      "execution_count": null,
      "id": "79918ed7",
      "metadata": {
        "ExecuteTime": {
          "end_time": "2022-11-08T12:33:39.640525Z",
          "start_time": "2022-11-08T12:33:39.483940Z"
        },
        "id": "79918ed7"
      },
      "outputs": [],
      "source": [
        "plt.plot(x,x);"
      ]
    },
    {
      "cell_type": "code",
      "execution_count": null,
      "id": "5a301d88",
      "metadata": {
        "ExecuteTime": {
          "end_time": "2022-11-08T12:33:40.307100Z",
          "start_time": "2022-11-08T12:33:40.138660Z"
        },
        "pycharm": {
          "name": "#%%\n"
        },
        "id": "5a301d88"
      },
      "outputs": [],
      "source": [
        "plt.plot(x, x + 0, linestyle='solid', linewidth=2)\n",
        "plt.plot(x, x + 1, linestyle='dashed', linewidth=2)\n",
        "plt.plot(x, x + 2, linestyle='dashdot', linewidth=2)\n",
        "plt.plot(x, x + 3, linestyle='dotted', linewidth=2);"
      ]
    },
    {
      "cell_type": "code",
      "execution_count": null,
      "id": "fd7779d2",
      "metadata": {
        "ExecuteTime": {
          "end_time": "2022-11-08T12:33:40.578914Z",
          "start_time": "2022-11-08T12:33:40.395018Z"
        },
        "pycharm": {
          "name": "#%%\n"
        },
        "id": "fd7779d2"
      },
      "outputs": [],
      "source": [
        "# Для скорочення можна використовувати такі коди:\n",
        "plt.plot(x, x + 4, linestyle='-')  # solid\n",
        "plt.plot(x, x + 5, linestyle='--') # dashed\n",
        "plt.plot(x, x + 6, linestyle='-.') # dashdota\n",
        "plt.plot(x, x + 7, linestyle=':'); # dotted"
      ]
    },
    {
      "cell_type": "markdown",
      "id": "18b8158c",
      "metadata": {
        "pycharm": {
          "name": "#%% md\n"
        },
        "id": "18b8158c"
      },
      "source": [
        "Можемо задати стиль лінії разом з кольором"
      ]
    },
    {
      "cell_type": "code",
      "execution_count": null,
      "id": "3ccae44f",
      "metadata": {
        "ExecuteTime": {
          "end_time": "2022-11-08T12:33:41.106959Z",
          "start_time": "2022-11-08T12:33:40.934358Z"
        },
        "pycharm": {
          "name": "#%%\n"
        },
        "id": "3ccae44f"
      },
      "outputs": [],
      "source": [
        "plt.plot(x, x + 0, '-g', linewidth=2)   # solid green\n",
        "plt.plot(x, x + 1, '--c', linewidth=2)  # dashed cyan\n",
        "plt.plot(x, x + 2, '-.k', linewidth=2)  # dashdot black\n",
        "plt.plot(x, x + 3, ':r', linewidth=2);  # dotted red"
      ]
    },
    {
      "cell_type": "code",
      "execution_count": null,
      "id": "97fc441d",
      "metadata": {
        "ExecuteTime": {
          "end_time": "2022-11-08T12:33:41.347465Z",
          "start_time": "2022-11-08T12:33:41.161921Z"
        },
        "id": "97fc441d"
      },
      "outputs": [],
      "source": [
        "plt.plot(x, np.sin(x), 'or', linewidth=0.6);  # dotted red"
      ]
    },
    {
      "cell_type": "markdown",
      "id": "917b40cc",
      "metadata": {
        "ExecuteTime": {
          "end_time": "2022-11-07T10:58:31.489568Z",
          "start_time": "2022-11-07T10:58:31.485485Z"
        },
        "id": "917b40cc"
      },
      "source": [
        "Третій аргумент в функції plt.plot - це формат. Він будується за наступною логікою  \n",
        "```\n",
        "fmt = '[marker][line][color]'\n",
        "```\n",
        "\n",
        "Детальніше - в секції Notes [тут](https://matplotlib.org/stable/api/_as_gen/matplotlib.pyplot.plot.html)."
      ]
    },
    {
      "cell_type": "markdown",
      "id": "1e721ba8",
      "metadata": {
        "pycharm": {
          "name": "#%% md\n"
        },
        "id": "1e721ba8"
      },
      "source": [
        "## Границі графіка"
      ]
    },
    {
      "cell_type": "code",
      "execution_count": null,
      "id": "12a5e93e",
      "metadata": {
        "ExecuteTime": {
          "end_time": "2022-11-08T12:33:42.310459Z",
          "start_time": "2022-11-08T12:33:42.149666Z"
        },
        "pycharm": {
          "name": "#%%\n"
        },
        "id": "12a5e93e"
      },
      "outputs": [],
      "source": [
        "x = np.linspace(0, 10, 100)\n",
        "plt.plot(x, np.sin(x))\n",
        "\n",
        "plt.xlim(-1, 11)\n",
        "plt.ylim(-1.5, 1.5);"
      ]
    },
    {
      "cell_type": "markdown",
      "id": "e9af9bbe",
      "metadata": {
        "pycharm": {
          "name": "#%% md\n"
        },
        "id": "e9af9bbe"
      },
      "source": [
        "Альтернативно можемо використати метод `plt.axis()` (зверніть увагу на можливу плутанину між `axes` з літерою e і `axis` з i).\n",
        "\n",
        "Метод `plt.axis()` дає змогу встановити межі x і y за допомогою одного виклику, передавши список, який вказує [xmin, xmax, ymin, ymax]:"
      ]
    },
    {
      "cell_type": "code",
      "execution_count": null,
      "id": "0c85172a",
      "metadata": {
        "ExecuteTime": {
          "end_time": "2022-11-08T12:33:42.858686Z",
          "start_time": "2022-11-08T12:33:42.689831Z"
        },
        "pycharm": {
          "name": "#%%\n"
        },
        "id": "0c85172a"
      },
      "outputs": [],
      "source": [
        "plt.plot(x, np.sin(x))\n",
        "plt.axis([-1, 11, -1.5, 1.5]);"
      ]
    },
    {
      "cell_type": "markdown",
      "id": "ddcb97bd",
      "metadata": {
        "ExecuteTime": {
          "end_time": "2021-09-05T20:45:39.059035Z",
          "start_time": "2021-09-05T20:45:39.055721Z"
        },
        "pycharm": {
          "name": "#%% md\n"
        },
        "id": "ddcb97bd"
      },
      "source": [
        "А так ми можемо максимально помістити графік у панель."
      ]
    },
    {
      "cell_type": "code",
      "execution_count": null,
      "id": "e224e1e5",
      "metadata": {
        "ExecuteTime": {
          "end_time": "2022-11-08T12:33:43.222845Z",
          "start_time": "2022-11-08T12:33:43.041526Z"
        },
        "pycharm": {
          "name": "#%%\n"
        },
        "id": "e224e1e5"
      },
      "outputs": [],
      "source": [
        "plt.plot(x, np.sin(x))\n",
        "plt.axis('tight');"
      ]
    },
    {
      "cell_type": "code",
      "execution_count": null,
      "id": "a6134cee",
      "metadata": {
        "ExecuteTime": {
          "end_time": "2022-11-08T12:33:43.531199Z",
          "start_time": "2022-11-08T12:33:43.245638Z"
        },
        "pycharm": {
          "name": "#%%\n"
        },
        "id": "a6134cee"
      },
      "outputs": [],
      "source": [
        "plt.plot(x, np.sin(x))\n",
        "plt.tight_layout();"
      ]
    },
    {
      "cell_type": "markdown",
      "id": "b056ee37",
      "metadata": {
        "ExecuteTime": {
          "end_time": "2021-09-05T20:46:40.772393Z",
          "start_time": "2021-09-05T20:46:40.769072Z"
        },
        "pycharm": {
          "name": "#%% md\n"
        },
        "id": "b056ee37"
      },
      "source": [
        "А так ми можемо забезпечити, щоб на екрані одна одиниця по осі ОХ відповідала одній одиниці по осі ОУ:"
      ]
    },
    {
      "cell_type": "code",
      "execution_count": null,
      "id": "d4f67a96",
      "metadata": {
        "ExecuteTime": {
          "end_time": "2022-11-08T12:33:43.885358Z",
          "start_time": "2022-11-08T12:33:43.681214Z"
        },
        "pycharm": {
          "name": "#%%\n"
        },
        "id": "d4f67a96"
      },
      "outputs": [],
      "source": [
        "plt.plot(x, np.sin(x))\n",
        "plt.axis('equal');"
      ]
    },
    {
      "cell_type": "markdown",
      "id": "490015d4",
      "metadata": {
        "pycharm": {
          "name": "#%% md\n"
        },
        "id": "490015d4"
      },
      "source": [
        "## Декілька графіків на одній фігурі."
      ]
    },
    {
      "cell_type": "markdown",
      "id": "b32e5b8e",
      "metadata": {
        "pycharm": {
          "name": "#%% md\n"
        },
        "id": "b32e5b8e"
      },
      "source": [
        "Існує два інтерфейси для виконання цього завдання."
      ]
    },
    {
      "cell_type": "markdown",
      "id": "4ccb1e3b",
      "metadata": {
        "pycharm": {
          "name": "#%% md\n"
        },
        "id": "4ccb1e3b"
      },
      "source": [
        "### В стилі MATLAB"
      ]
    },
    {
      "cell_type": "markdown",
      "id": "b3aef475",
      "metadata": {
        "pycharm": {
          "name": "#%% md\n"
        },
        "id": "b3aef475"
      },
      "source": [
        "Matplotlib спочатку був написаний як альтернатива Python для користувачів MATLAB, і більша частина його синтаксису відображає цей факт."
      ]
    },
    {
      "cell_type": "markdown",
      "id": "925737de",
      "metadata": {
        "id": "925737de"
      },
      "source": [
        "Вертикальне розташування графіків:"
      ]
    },
    {
      "cell_type": "code",
      "execution_count": null,
      "id": "d844ddba",
      "metadata": {
        "ExecuteTime": {
          "end_time": "2022-11-08T12:33:47.236341Z",
          "start_time": "2022-11-08T12:33:46.932837Z"
        },
        "pycharm": {
          "name": "#%%\n"
        },
        "id": "d844ddba"
      },
      "outputs": [],
      "source": [
        "plt.figure()  # створюємо фігуру\n",
        "\n",
        "# створюємо першу з двох панелей і встановлюємо поточну вісь\n",
        "plt.subplot(2, 1, 1)  # (рядки, колонки, номер панелі)\n",
        "plt.plot(x, np.sin(x))\n",
        "\n",
        "# створюємо другу з двох панелей і встановлюємо поточну вісь\n",
        "plt.subplot(2, 1, 2)\n",
        "plt.plot(x, np.cos(x));\n",
        "plt.tight_layout();\n"
      ]
    },
    {
      "cell_type": "markdown",
      "id": "304d8864",
      "metadata": {
        "ExecuteTime": {
          "end_time": "2022-11-07T10:34:39.843030Z",
          "start_time": "2022-11-07T10:34:39.832943Z"
        },
        "id": "304d8864"
      },
      "source": [
        "Горизонтальне розташування графіків:"
      ]
    },
    {
      "cell_type": "code",
      "execution_count": null,
      "id": "1cab6ee8",
      "metadata": {
        "ExecuteTime": {
          "end_time": "2022-11-08T12:33:48.407566Z",
          "start_time": "2022-11-08T12:33:47.968088Z"
        },
        "pycharm": {
          "name": "#%%\n"
        },
        "id": "1cab6ee8"
      },
      "outputs": [],
      "source": [
        "plt.figure(figsize=(20, 5))  # створюємо фігуру\n",
        "\n",
        "# створюємо першу з двох панелей і встановлюємо поточну вісь\n",
        "plt.subplot(1, 3, 1)  # (рядки, колонки, номер панелі)\n",
        "plt.plot(x, np.sin(x))\n",
        "\n",
        "# створюємо другу з двох панелей і встановлюємо поточну вісь\n",
        "plt.subplot(1, 3, 2)\n",
        "plt.plot(x, np.cos(x))\n",
        "\n",
        "\n",
        "plt.subplot(1, 3, 3)\n",
        "plt.plot(x, np.cos(x+5)+5, 'r')\n",
        "\n",
        "plt.show();"
      ]
    },
    {
      "cell_type": "markdown",
      "id": "d8f48b38",
      "metadata": {
        "pycharm": {
          "name": "#%% md\n"
        },
        "id": "d8f48b38"
      },
      "source": [
        "Цей інтерфейс відстежує стан: він відображає \"поточну\" фігуру та осі, за якими застосовуються всі команди plt.   \n",
        "Ви можете отримати посилання на них, використовуючи процедури `plt.gcf()` (отримати поточний малюнок) і `plt.gca()` (отримати поточні осі).\n",
        "\n",
        "Хоча цей інтерфейс з відстеженням стану швидкий і зручний для простих графіків, з ним легко зіткнутися з проблемами.   \n",
        "Наприклад, після створення другої панелі, як ми можемо повернутися і додати що-небудь до першої?   \n",
        "Це можливо в інтерфейсі в стилі MATLAB, але доволі незручно. На щастя, є другий спосіб."
      ]
    },
    {
      "cell_type": "markdown",
      "id": "bf7d4b70",
      "metadata": {
        "pycharm": {
          "name": "#%% md\n"
        },
        "id": "bf7d4b70"
      },
      "source": [
        "### Об'єктно-орієнтований інтерфейс"
      ]
    },
    {
      "cell_type": "markdown",
      "id": "dcf819b8",
      "metadata": {
        "pycharm": {
          "name": "#%% md\n"
        },
        "id": "dcf819b8"
      },
      "source": [
        "Об'єктно-орієнтований інтерфейс доступний для цих більш складних ситуацій, а також для тих випадків, коли вам потрібен більший контроль над своєю фігурою.   \n",
        "В об'єктно-орієнтованому інтерфейсі функції побудови графіків є методами явних об'єктів Figure і Axes, а не залежать від будь-якого поняття \"активна\" фігура або осі.   \n",
        "Щоб відтворити попередній графік із використанням цього стилю побудови, робімо ось що:"
      ]
    },
    {
      "cell_type": "code",
      "execution_count": null,
      "id": "ff8a2f50",
      "metadata": {
        "ExecuteTime": {
          "end_time": "2022-11-08T12:33:50.467693Z",
          "start_time": "2022-11-08T12:33:50.219462Z"
        },
        "pycharm": {
          "name": "#%%\n"
        },
        "id": "ff8a2f50"
      },
      "outputs": [],
      "source": [
        "# Спочатку створимо сітку графіків\n",
        "# ax буде масивом із двох об'єктів Axes\n",
        "fig, ax = plt.subplots(2)\n",
        "\n",
        "# Виклик plot() методу для потрібного об'єкта\n",
        "ax[0].plot(x, np.sin(x))\n",
        "ax[1].plot(x, np.cos(x));"
      ]
    },
    {
      "cell_type": "code",
      "execution_count": null,
      "id": "6d904877",
      "metadata": {
        "ExecuteTime": {
          "end_time": "2022-11-08T12:33:50.598089Z",
          "start_time": "2022-11-08T12:33:50.535528Z"
        },
        "pycharm": {
          "name": "#%%\n"
        },
        "id": "6d904877"
      },
      "outputs": [],
      "source": [
        "?plt.subplots"
      ]
    },
    {
      "cell_type": "markdown",
      "id": "9748aa1c",
      "metadata": {
        "pycharm": {
          "name": "#%% md\n"
        },
        "id": "9748aa1c"
      },
      "source": [
        "На практиці під час ознайомлення з даними я використовую перший спосіб. Якщо мені потрібно будувати прості візуалізації для себе.\n",
        "\n",
        "Коли ж треба побудувати візуалізації \"на тривале користування\", застосовую другий спосіб за потреби."
      ]
    },
    {
      "cell_type": "markdown",
      "id": "2ef13d42",
      "metadata": {
        "pycharm": {
          "name": "#%% md\n"
        },
        "id": "2ef13d42"
      },
      "source": [
        "## Підписи"
      ]
    },
    {
      "cell_type": "markdown",
      "id": "51a08dbc",
      "metadata": {
        "id": "51a08dbc"
      },
      "source": [
        "Визначити підписи вісей можемо наступним чином:"
      ]
    },
    {
      "cell_type": "code",
      "execution_count": null,
      "id": "fe08c525",
      "metadata": {
        "ExecuteTime": {
          "end_time": "2022-11-08T12:33:51.651481Z",
          "start_time": "2022-11-08T12:33:51.418625Z"
        },
        "pycharm": {
          "name": "#%%\n"
        },
        "id": "fe08c525"
      },
      "outputs": [],
      "source": [
        "plt.plot(x, np.sin(x))\n",
        "plt.title(\"Синусоїда\")\n",
        "plt.xlabel(\"x\")\n",
        "plt.ylabel(\"sin(x)\");"
      ]
    },
    {
      "cell_type": "markdown",
      "id": "41075aa9",
      "metadata": {
        "pycharm": {
          "name": "#%% md\n"
        },
        "id": "41075aa9"
      },
      "source": [
        "Положення, розмір і стиль підписів можна налаштувати за допомогою додаткових аргументів функцій."
      ]
    },
    {
      "cell_type": "markdown",
      "id": "f8d5c8a7",
      "metadata": {
        "pycharm": {
          "name": "#%% md\n"
        },
        "id": "f8d5c8a7"
      },
      "source": [
        "## Легенда"
      ]
    },
    {
      "cell_type": "markdown",
      "id": "32a4bc49",
      "metadata": {
        "id": "32a4bc49"
      },
      "source": [
        "Легенда дозволяє побачити, який графік що відображає."
      ]
    },
    {
      "cell_type": "code",
      "execution_count": null,
      "id": "f3326309",
      "metadata": {
        "ExecuteTime": {
          "end_time": "2022-11-08T12:33:56.784670Z",
          "start_time": "2022-11-08T12:33:56.547836Z"
        },
        "pycharm": {
          "name": "#%%\n"
        },
        "id": "f3326309"
      },
      "outputs": [],
      "source": [
        "plt.plot(x, np.sin(x), '-g', label='sin(x)')\n",
        "plt.plot(x, np.cos(x), ':b', label='cos(x)')\n",
        "plt.axis('equal')\n",
        "plt.title('A Simple Plot')\n",
        "plt.xlabel('x')\n",
        "plt.ylabel('f(x)')\n",
        "plt.legend();"
      ]
    },
    {
      "cell_type": "markdown",
      "id": "700d28ec",
      "metadata": {
        "id": "700d28ec"
      },
      "source": [
        "Важливо перед відображенням легенди задати назви ліній, які ми побудували."
      ]
    },
    {
      "cell_type": "code",
      "execution_count": null,
      "id": "7db054dc",
      "metadata": {
        "ExecuteTime": {
          "end_time": "2022-11-08T12:33:57.117614Z",
          "start_time": "2022-11-08T12:33:56.923619Z"
        },
        "pycharm": {
          "name": "#%%\n"
        },
        "id": "7db054dc"
      },
      "outputs": [],
      "source": [
        "plt.plot(x, np.sin(x), '-g')\n",
        "plt.plot(x, np.cos(x), ':b')\n",
        "plt.axis('equal')\n",
        "plt.legend();"
      ]
    },
    {
      "cell_type": "markdown",
      "id": "6a87eee6",
      "metadata": {
        "pycharm": {
          "name": "#%% md\n"
        },
        "id": "6a87eee6"
      },
      "source": [
        "Іноді нам треба використовувати `ax` методи. Тоді підписи будуть мати такий вигляд:"
      ]
    },
    {
      "cell_type": "code",
      "execution_count": null,
      "id": "8e4743a0",
      "metadata": {
        "ExecuteTime": {
          "end_time": "2022-11-08T12:33:57.506762Z",
          "start_time": "2022-11-08T12:33:57.274229Z"
        },
        "pycharm": {
          "name": "#%%\n"
        },
        "id": "8e4743a0"
      },
      "outputs": [],
      "source": [
        "ax = plt.axes()\n",
        "ax.plot(x, np.sin(x))\n",
        "ax.set(xlim=(0, 10), ylim=(-2, 2),\n",
        "       xlabel='x', ylabel='sin(x)',\n",
        "       title='A Simple Plot');"
      ]
    },
    {
      "cell_type": "markdown",
      "id": "27649033",
      "metadata": {
        "ExecuteTime": {
          "end_time": "2021-09-05T20:55:30.575434Z",
          "start_time": "2021-09-05T20:55:30.571673Z"
        },
        "pycharm": {
          "name": "#%% md\n"
        },
        "id": "27649033"
      },
      "source": [
        "Для переходу між функціями в стилі MATLAB та об'єктно-орієнтованими методами внесіть такі зміни:\n",
        "\n",
        "- ``plt.xlabel()``  → ``ax.set_xlabel()``\n",
        "- ``plt.ylabel()`` → ``ax.set_ylabel()``\n",
        "- ``plt.xlim()``  → ``ax.set_xlim()``\n",
        "- ``plt.ylim()`` → ``ax.set_ylim()``\n",
        "- ``plt.title()`` → ``ax.set_title()``"
      ]
    },
    {
      "cell_type": "markdown",
      "id": "05de0740",
      "metadata": {
        "pycharm": {
          "name": "#%% md\n"
        },
        "id": "05de0740"
      },
      "source": [
        "## Збереження графіка у файл"
      ]
    },
    {
      "cell_type": "code",
      "execution_count": null,
      "id": "5dc18dc4",
      "metadata": {
        "ExecuteTime": {
          "end_time": "2022-11-08T12:33:58.345226Z",
          "start_time": "2022-11-08T12:33:58.157916Z"
        },
        "pycharm": {
          "name": "#%%\n"
        },
        "id": "5dc18dc4"
      },
      "outputs": [],
      "source": [
        "fig = plt.figure()\n",
        "plt.plot(x, np.sin(x), '-')\n",
        "plt.plot(x, np.cos(x), '--');"
      ]
    },
    {
      "cell_type": "code",
      "execution_count": null,
      "id": "941e9a43",
      "metadata": {
        "ExecuteTime": {
          "end_time": "2022-11-08T12:33:58.414785Z",
          "start_time": "2022-11-08T12:33:58.350486Z"
        },
        "pycharm": {
          "name": "#%%\n"
        },
        "id": "941e9a43"
      },
      "outputs": [],
      "source": [
        "fig.savefig('figure_1.png')"
      ]
    },
    {
      "cell_type": "markdown",
      "id": "6d5c8f88",
      "metadata": {
        "ExecuteTime": {
          "end_time": "2021-09-05T14:34:33.298182Z",
          "start_time": "2021-09-05T14:34:33.294778Z"
        },
        "pycharm": {
          "name": "#%% md\n"
        },
        "id": "6d5c8f88"
      },
      "source": [
        "Переконаємося, що збережена картинка містить те, що нам треба.\n",
        "І заодно подивимося, як завантажувати картинки в Jupyter Notebook."
      ]
    },
    {
      "cell_type": "code",
      "execution_count": null,
      "id": "527c95f1",
      "metadata": {
        "ExecuteTime": {
          "end_time": "2022-11-08T12:33:58.645762Z",
          "start_time": "2022-11-08T12:33:58.640321Z"
        },
        "pycharm": {
          "name": "#%%\n"
        },
        "id": "527c95f1"
      },
      "outputs": [],
      "source": [
        "from IPython.display import Image # найпростіший спосіб завантажити картинку в Jupyter Notebook\n",
        "Image('figure_1.png')"
      ]
    },
    {
      "cell_type": "code",
      "execution_count": null,
      "id": "71c69054",
      "metadata": {
        "ExecuteTime": {
          "end_time": "2022-11-08T12:33:58.802580Z",
          "start_time": "2022-11-08T12:33:58.799481Z"
        },
        "id": "71c69054"
      },
      "outputs": [],
      "source": [
        "import os"
      ]
    },
    {
      "cell_type": "code",
      "execution_count": null,
      "id": "32aefa4c",
      "metadata": {
        "ExecuteTime": {
          "end_time": "2022-11-08T12:33:58.958649Z",
          "start_time": "2022-11-08T12:33:58.953221Z"
        },
        "id": "32aefa4c"
      },
      "outputs": [],
      "source": [
        "'figure_1.png' in os.listdir()"
      ]
    },
    {
      "cell_type": "markdown",
      "id": "cdbb4c88",
      "metadata": {
        "pycharm": {
          "name": "#%% md\n"
        },
        "id": "cdbb4c88"
      },
      "source": [
        "Можна було обійтися і без `fig`. Заодно збережемо з великим dpi (dots per inch)."
      ]
    },
    {
      "cell_type": "code",
      "execution_count": null,
      "id": "16d74f70",
      "metadata": {
        "ExecuteTime": {
          "end_time": "2022-11-08T12:33:59.524465Z",
          "start_time": "2022-11-08T12:33:59.255207Z"
        },
        "pycharm": {
          "name": "#%%\n"
        },
        "id": "16d74f70"
      },
      "outputs": [],
      "source": [
        "plt.plot(x, np.sin(x), '-')\n",
        "plt.plot(x, np.cos(x), '--')\n",
        "plt.savefig('figure_2.png', dpi=100)"
      ]
    },
    {
      "cell_type": "code",
      "execution_count": null,
      "id": "f6a316ec",
      "metadata": {
        "ExecuteTime": {
          "end_time": "2022-11-08T12:33:59.532065Z",
          "start_time": "2022-11-08T12:33:59.527836Z"
        },
        "id": "f6a316ec"
      },
      "outputs": [],
      "source": [
        "'figure_2.png' in os.listdir()"
      ]
    },
    {
      "cell_type": "code",
      "execution_count": null,
      "id": "a80cd417",
      "metadata": {
        "ExecuteTime": {
          "end_time": "2022-11-08T12:33:59.539296Z",
          "start_time": "2022-11-08T12:33:59.534032Z"
        },
        "pycharm": {
          "name": "#%%\n"
        },
        "id": "a80cd417"
      },
      "outputs": [],
      "source": [
        "Image('figure_2.png')"
      ]
    },
    {
      "cell_type": "markdown",
      "id": "89d2e15a",
      "metadata": {
        "pycharm": {
          "name": "#%% md\n"
        },
        "id": "89d2e15a"
      },
      "source": [
        "**Не можна** (!!!) зберігати графік після виклику функції `plt.show()`: збережена картинка буде порожньою."
      ]
    },
    {
      "cell_type": "code",
      "execution_count": null,
      "id": "2f8fc5ae",
      "metadata": {
        "ExecuteTime": {
          "end_time": "2022-11-08T12:34:00.740150Z",
          "start_time": "2022-11-08T12:34:00.734648Z"
        },
        "id": "2f8fc5ae"
      },
      "outputs": [],
      "source": [
        "'figure_3.png' in os.listdir()"
      ]
    },
    {
      "cell_type": "code",
      "execution_count": null,
      "id": "f7fe5f58",
      "metadata": {
        "ExecuteTime": {
          "end_time": "2022-11-08T12:34:01.225067Z",
          "start_time": "2022-11-08T12:34:01.048264Z"
        },
        "pycharm": {
          "name": "#%%\n"
        },
        "id": "f7fe5f58"
      },
      "outputs": [],
      "source": [
        "plt.plot(x, np.sin(x), '-')\n",
        "plt.plot(x, np.cos(x), '--')\n",
        "plt.show()\n",
        "plt.savefig('figure_3.png');"
      ]
    },
    {
      "cell_type": "code",
      "execution_count": null,
      "id": "9fa75da6",
      "metadata": {
        "ExecuteTime": {
          "end_time": "2022-11-08T12:34:01.284433Z",
          "start_time": "2022-11-08T12:34:01.279220Z"
        },
        "id": "9fa75da6"
      },
      "outputs": [],
      "source": [
        "'figure_3.png' in os.listdir()"
      ]
    },
    {
      "cell_type": "code",
      "execution_count": null,
      "id": "46839b4a",
      "metadata": {
        "ExecuteTime": {
          "end_time": "2022-11-08T12:34:01.481782Z",
          "start_time": "2022-11-08T12:34:01.476748Z"
        },
        "pycharm": {
          "name": "#%%\n"
        },
        "id": "46839b4a"
      },
      "outputs": [],
      "source": [
        "Image('figure_3.png')"
      ]
    },
    {
      "cell_type": "markdown",
      "id": "f3e3c390",
      "metadata": {
        "pycharm": {
          "name": "#%% md\n"
        },
        "id": "f3e3c390"
      },
      "source": [
        "Подивимося на розміри файлів, які у нас вийшли:"
      ]
    },
    {
      "cell_type": "code",
      "execution_count": null,
      "id": "a520105d",
      "metadata": {
        "ExecuteTime": {
          "end_time": "2022-11-08T12:34:03.822699Z",
          "start_time": "2022-11-08T12:34:03.659871Z"
        },
        "pycharm": {
          "name": "#%%\n"
        },
        "id": "a520105d"
      },
      "outputs": [],
      "source": [
        "!ls -lh figure_*"
      ]
    },
    {
      "cell_type": "markdown",
      "id": "1e570ba2",
      "metadata": {
        "pycharm": {
          "name": "#%% md\n"
        },
        "id": "1e570ba2"
      },
      "source": [
        "Бачимо, що figure_3 - найменша, бо порожня, а figure_2 - найбільша, бо більший dpi."
      ]
    },
    {
      "cell_type": "markdown",
      "id": "8f2a8410",
      "metadata": {
        "pycharm": {
          "name": "#%% md\n"
        },
        "id": "8f2a8410"
      },
      "source": [
        "У які формати можемо зберігати картинки з Python:"
      ]
    },
    {
      "cell_type": "code",
      "execution_count": null,
      "id": "b9602237",
      "metadata": {
        "ExecuteTime": {
          "end_time": "2022-11-08T12:34:07.025704Z",
          "start_time": "2022-11-08T12:34:07.019151Z"
        },
        "pycharm": {
          "name": "#%%\n"
        },
        "id": "b9602237"
      },
      "outputs": [],
      "source": [
        "fig.canvas.get_supported_filetypes()"
      ]
    },
    {
      "cell_type": "markdown",
      "id": "fe9e09ce",
      "metadata": {
        "pycharm": {
          "name": "#%% md\n"
        },
        "id": "fe9e09ce"
      },
      "source": [
        "## Стилі"
      ]
    },
    {
      "cell_type": "markdown",
      "id": "2c46b5d0",
      "metadata": {
        "pycharm": {
          "name": "#%% md\n"
        },
        "id": "2c46b5d0"
      },
      "source": [
        "Можна змінювати стилі візуалізацій або створити власний.  \n",
        "Подивитись, які є стилі, можемо в такий спосіб:"
      ]
    },
    {
      "cell_type": "code",
      "execution_count": null,
      "id": "ae51614a",
      "metadata": {
        "ExecuteTime": {
          "end_time": "2022-11-08T12:34:07.562674Z",
          "start_time": "2022-11-08T12:34:07.558128Z"
        },
        "pycharm": {
          "name": "#%%\n"
        },
        "id": "ae51614a"
      },
      "outputs": [],
      "source": [
        "len(plt.style.available)"
      ]
    },
    {
      "cell_type": "markdown",
      "id": "b0bed582",
      "metadata": {
        "pycharm": {
          "name": "#%% md\n"
        },
        "id": "b0bed582"
      },
      "source": [
        "Для того щоб встановити стиль для усіх візуалізацій у сесії:"
      ]
    },
    {
      "cell_type": "code",
      "execution_count": null,
      "id": "c57418b3",
      "metadata": {
        "ExecuteTime": {
          "end_time": "2022-11-08T12:34:08.538265Z",
          "start_time": "2022-11-08T12:34:08.534618Z"
        },
        "pycharm": {
          "name": "#%%\n"
        },
        "id": "c57418b3"
      },
      "outputs": [],
      "source": [
        "plt.style.use('ggplot')"
      ]
    },
    {
      "cell_type": "code",
      "execution_count": null,
      "id": "799653ce",
      "metadata": {
        "ExecuteTime": {
          "end_time": "2022-11-08T12:34:08.876446Z",
          "start_time": "2022-11-08T12:34:08.669708Z"
        },
        "id": "799653ce"
      },
      "outputs": [],
      "source": [
        "plt.plot(x,y);"
      ]
    },
    {
      "cell_type": "code",
      "execution_count": null,
      "id": "c8ed8f4e",
      "metadata": {
        "ExecuteTime": {
          "end_time": "2022-11-08T12:34:08.884267Z",
          "start_time": "2022-11-08T12:34:08.880081Z"
        },
        "pycharm": {
          "name": "#%%\n"
        },
        "id": "c8ed8f4e"
      },
      "outputs": [],
      "source": [
        "def make_a_plot(style_name):\n",
        "    # Фіксуємо рандомізацію\n",
        "    np.random.seed(10)\n",
        "    for i in range(4):\n",
        "        plt.plot(np.random.rand(10))\n",
        "    plt.title(style_name)\n",
        "    plt.show()"
      ]
    },
    {
      "cell_type": "code",
      "execution_count": null,
      "id": "d42ca7ee",
      "metadata": {
        "ExecuteTime": {
          "end_time": "2022-11-08T12:34:09.180975Z",
          "start_time": "2022-11-08T12:34:08.991981Z"
        },
        "pycharm": {
          "name": "#%%\n"
        },
        "id": "d42ca7ee"
      },
      "outputs": [],
      "source": [
        "make_a_plot('ggplot')"
      ]
    },
    {
      "cell_type": "markdown",
      "id": "e329e901",
      "metadata": {
        "pycharm": {
          "name": "#%% md\n"
        },
        "id": "e329e901"
      },
      "source": [
        "Щоб побудувати візуалізацію з особливим стилем:"
      ]
    },
    {
      "cell_type": "code",
      "execution_count": null,
      "id": "ca5957c6",
      "metadata": {
        "ExecuteTime": {
          "end_time": "2022-11-08T12:34:09.475681Z",
          "start_time": "2022-11-08T12:34:09.277939Z"
        },
        "pycharm": {
          "name": "#%%\n"
        },
        "id": "ca5957c6"
      },
      "outputs": [],
      "source": [
        "with plt.style.context('classic'):\n",
        "    make_a_plot('classic')"
      ]
    },
    {
      "cell_type": "code",
      "execution_count": null,
      "id": "a43ce8f8",
      "metadata": {
        "ExecuteTime": {
          "end_time": "2022-11-08T12:34:18.156178Z",
          "start_time": "2022-11-08T12:34:09.479181Z"
        },
        "id": "a43ce8f8"
      },
      "outputs": [],
      "source": [
        "!conda list | grep matplotlib"
      ]
    },
    {
      "cell_type": "code",
      "execution_count": null,
      "id": "7e942e24",
      "metadata": {
        "ExecuteTime": {
          "end_time": "2022-11-08T12:34:23.195284Z",
          "start_time": "2022-11-08T12:34:18.160191Z"
        },
        "pycharm": {
          "name": "#%%\n"
        },
        "scrolled": false,
        "id": "7e942e24"
      },
      "outputs": [],
      "source": [
        "for c in plt.style.available:\n",
        "    with plt.style.context(c):\n",
        "        make_a_plot(c)"
      ]
    },
    {
      "cell_type": "markdown",
      "id": "fd22e952",
      "metadata": {
        "ExecuteTime": {
          "end_time": "2021-10-02T05:47:21.298233Z",
          "start_time": "2021-10-02T05:47:21.190682Z"
        },
        "pycharm": {
          "name": "#%% md\n"
        },
        "id": "fd22e952"
      },
      "source": [
        "Повернутися до початкового стилю"
      ]
    },
    {
      "cell_type": "code",
      "execution_count": null,
      "id": "6cc20cb0",
      "metadata": {
        "ExecuteTime": {
          "end_time": "2022-11-08T12:34:23.205749Z",
          "start_time": "2022-11-08T12:34:23.199334Z"
        },
        "pycharm": {
          "name": "#%%\n"
        },
        "id": "6cc20cb0"
      },
      "outputs": [],
      "source": [
        "import matplotlib as mpl\n",
        "mpl.rcParams.update(mpl.rcParamsDefault)"
      ]
    },
    {
      "cell_type": "code",
      "execution_count": null,
      "id": "8c9ba184",
      "metadata": {
        "ExecuteTime": {
          "end_time": "2022-11-08T12:34:23.419004Z",
          "start_time": "2022-11-08T12:34:23.208382Z"
        },
        "pycharm": {
          "name": "#%%\n"
        },
        "id": "8c9ba184"
      },
      "outputs": [],
      "source": [
        "make_a_plot('default')"
      ]
    },
    {
      "cell_type": "markdown",
      "id": "892e2d81",
      "metadata": {
        "pycharm": {
          "name": "#%% md\n"
        },
        "id": "892e2d81"
      },
      "source": [
        "## Scatterplot (точкова діаграма/діаграма розсіювання)"
      ]
    },
    {
      "cell_type": "markdown",
      "id": "77246fc6",
      "metadata": {
        "pycharm": {
          "name": "#%% md\n"
        },
        "id": "77246fc6"
      },
      "source": [
        "Scatterplot слугує для дослідження взаємодії двох змінних.\n"
      ]
    },
    {
      "cell_type": "markdown",
      "id": "fad3c619",
      "metadata": {
        "pycharm": {
          "name": "#%% md\n"
        },
        "id": "fad3c619"
      },
      "source": [
        "Можемо побудувати скатерплот за допомогою методу `scatter`:"
      ]
    },
    {
      "cell_type": "code",
      "execution_count": null,
      "id": "c34b9be6",
      "metadata": {
        "ExecuteTime": {
          "end_time": "2022-11-08T12:34:23.622821Z",
          "start_time": "2022-11-08T12:34:23.421701Z"
        },
        "pycharm": {
          "name": "#%%\n"
        },
        "id": "c34b9be6"
      },
      "outputs": [],
      "source": [
        "plt.scatter(x, y);"
      ]
    },
    {
      "cell_type": "code",
      "execution_count": null,
      "id": "7e5092f9",
      "metadata": {
        "ExecuteTime": {
          "end_time": "2022-11-08T12:34:23.630976Z",
          "start_time": "2022-11-08T12:34:23.625656Z"
        },
        "pycharm": {
          "name": "#%%\n"
        },
        "id": "7e5092f9"
      },
      "outputs": [],
      "source": [
        "# створимо нові дані\n",
        "np.random.seed(3)\n",
        "x = 4 + np.random.normal(0, 2, 200)\n",
        "y = 4 + np.random.normal(0, 2, len(x))"
      ]
    },
    {
      "cell_type": "code",
      "execution_count": null,
      "id": "67f93cf0",
      "metadata": {
        "ExecuteTime": {
          "end_time": "2022-11-08T12:34:23.805711Z",
          "start_time": "2022-11-08T12:34:23.636121Z"
        },
        "id": "67f93cf0"
      },
      "outputs": [],
      "source": [
        "plt.scatter(x, y);"
      ]
    },
    {
      "cell_type": "markdown",
      "id": "13468fd0",
      "metadata": {
        "id": "13468fd0"
      },
      "source": [
        "Можемо додати кольори і розміри:"
      ]
    },
    {
      "cell_type": "code",
      "execution_count": null,
      "id": "4d2cf25a",
      "metadata": {
        "ExecuteTime": {
          "end_time": "2022-11-08T12:34:23.982442Z",
          "start_time": "2022-11-08T12:34:23.810687Z"
        },
        "pycharm": {
          "name": "#%%\n"
        },
        "id": "4d2cf25a"
      },
      "outputs": [],
      "source": [
        "# задамо розміри і кольори\n",
        "sizes = np.random.uniform(15, 80, len(x))\n",
        "colors = np.random.uniform(15, 80, len(x))\n",
        "\n",
        "# створимо фігуру\n",
        "plt.scatter(x, y, marker='^', s=sizes, c=colors)\n",
        "\n",
        "plt.show()"
      ]
    },
    {
      "cell_type": "markdown",
      "id": "619c32b9",
      "metadata": {
        "pycharm": {
          "name": "#%% md\n"
        },
        "id": "619c32b9"
      },
      "source": [
        "Можна вказувати різні символи, якими ми візуалізуємо точки, вони всі перераховані в документації та здебільшого з позначення інтуїтивно зрозумілі."
      ]
    },
    {
      "cell_type": "code",
      "execution_count": null,
      "id": "7305166e",
      "metadata": {
        "ExecuteTime": {
          "end_time": "2022-11-08T12:34:24.283809Z",
          "start_time": "2022-11-08T12:34:23.986968Z"
        },
        "pycharm": {
          "name": "#%%\n"
        },
        "id": "7305166e"
      },
      "outputs": [],
      "source": [
        "plt.figure(figsize=(8,5))\n",
        "rng = np.random.RandomState(0)\n",
        "for marker in ['o', '.', ',', 'x', '+', 'v', '^', '<', '>', 's', 'd']:\n",
        "    plt.plot(rng.rand(5)*2, rng.rand(5)*2, marker,\n",
        "             label=\"marker='{0}'\".format(marker), linewidth=4)\n",
        "plt.legend(loc = 'upper right')\n",
        "plt.xlim(0, 1.8);"
      ]
    },
    {
      "cell_type": "markdown",
      "id": "6be0aade",
      "metadata": {
        "id": "6be0aade"
      },
      "source": [
        "Що буде, якщо викликати не той метод для побудови графіка?"
      ]
    },
    {
      "cell_type": "code",
      "execution_count": null,
      "id": "fd11e512",
      "metadata": {
        "ExecuteTime": {
          "end_time": "2022-11-08T12:34:24.472982Z",
          "start_time": "2022-11-08T12:34:24.286121Z"
        },
        "id": "fd11e512"
      },
      "outputs": [],
      "source": [
        "plt.plot(x, y);"
      ]
    },
    {
      "cell_type": "markdown",
      "id": "18bcd0e5",
      "metadata": {
        "id": "18bcd0e5"
      },
      "source": [
        "Але іноді все може бути не так погано:"
      ]
    },
    {
      "cell_type": "code",
      "execution_count": null,
      "id": "022ad2e0",
      "metadata": {
        "ExecuteTime": {
          "end_time": "2022-11-08T12:34:24.633968Z",
          "start_time": "2022-11-08T12:34:24.475796Z"
        },
        "id": "022ad2e0"
      },
      "outputs": [],
      "source": [
        "plt.plot(x, y, '.');"
      ]
    },
    {
      "cell_type": "markdown",
      "id": "17f7218a",
      "metadata": {
        "ExecuteTime": {
          "end_time": "2021-09-05T21:15:28.787627Z",
          "start_time": "2021-09-05T21:15:28.783628Z"
        },
        "pycharm": {
          "name": "#%% md\n"
        },
        "id": "17f7218a"
      },
      "source": [
        "Основна відмінність `plt.scatter` від `plt.plot` полягає в тому, що його можна використовувати для створення діаграм розсіювання,   \n",
        "де властивості кожної окремої точки (розмір, колір заповнення, колір межі тощо) можна індивідуально контролювати або зіставляти з даними."
      ]
    },
    {
      "cell_type": "markdown",
      "id": "9b088646",
      "metadata": {
        "id": "9b088646"
      },
      "source": [
        "## Приклад на даних"
      ]
    },
    {
      "cell_type": "markdown",
      "id": "66bd5601",
      "metadata": {
        "ExecuteTime": {
          "end_time": "2021-09-05T21:15:28.787627Z",
          "start_time": "2021-09-05T21:15:28.783628Z"
        },
        "pycharm": {
          "name": "#%% md\n"
        },
        "id": "66bd5601"
      },
      "source": [
        "Розглянемо приклад, як це може бути корисно в реальних ситуаціях. Візуалізуємо дані з відомого Iris набору даних, який доступний у scikit-learn.\n",
        "В датасеті Iris:\n",
        "- petal - пелюстка\n",
        "- sepal - чашолисток"
      ]
    },
    {
      "cell_type": "markdown",
      "source": [
        "![](https://drive.google.com/uc?export=view&id=1RN6-DNO9ejZ4g1I8_29PUm9Czl8nCl1O)"
      ],
      "metadata": {
        "id": "tHmu9QIuPrxf"
      },
      "id": "tHmu9QIuPrxf"
    },
    {
      "cell_type": "code",
      "execution_count": null,
      "id": "beb42cb7",
      "metadata": {
        "ExecuteTime": {
          "end_time": "2022-11-08T12:34:25.720636Z",
          "start_time": "2022-11-08T12:34:24.636304Z"
        },
        "pycharm": {
          "name": "#%%\n"
        },
        "id": "beb42cb7"
      },
      "outputs": [],
      "source": [
        "from sklearn.datasets import load_iris"
      ]
    },
    {
      "cell_type": "code",
      "execution_count": null,
      "id": "daeb9df7",
      "metadata": {
        "ExecuteTime": {
          "end_time": "2022-11-08T12:34:25.730984Z",
          "start_time": "2022-11-08T12:34:25.723455Z"
        },
        "pycharm": {
          "name": "#%%\n"
        },
        "id": "daeb9df7"
      },
      "outputs": [],
      "source": [
        "iris = load_iris()"
      ]
    },
    {
      "cell_type": "code",
      "execution_count": null,
      "id": "4bd15eb7",
      "metadata": {
        "ExecuteTime": {
          "end_time": "2022-11-08T12:34:25.737982Z",
          "start_time": "2022-11-08T12:34:25.733293Z"
        },
        "pycharm": {
          "name": "#%%\n"
        },
        "id": "4bd15eb7"
      },
      "outputs": [],
      "source": [
        "iris.keys()"
      ]
    },
    {
      "cell_type": "code",
      "execution_count": null,
      "id": "9312c0ac",
      "metadata": {
        "ExecuteTime": {
          "end_time": "2022-11-08T12:34:25.744501Z",
          "start_time": "2022-11-08T12:34:25.740459Z"
        },
        "pycharm": {
          "name": "#%%\n"
        },
        "id": "9312c0ac"
      },
      "outputs": [],
      "source": [
        "print(iris['DESCR'])"
      ]
    },
    {
      "cell_type": "markdown",
      "id": "9bdf63da",
      "metadata": {
        "id": "9bdf63da"
      },
      "source": [
        "Створимо датафрейм:"
      ]
    },
    {
      "cell_type": "code",
      "execution_count": null,
      "id": "148aecd4",
      "metadata": {
        "ExecuteTime": {
          "end_time": "2022-11-08T12:34:25.758220Z",
          "start_time": "2022-11-08T12:34:25.752161Z"
        },
        "id": "148aecd4"
      },
      "outputs": [],
      "source": [
        "iris_df = pd.DataFrame(iris.data, columns=iris.feature_names)"
      ]
    },
    {
      "cell_type": "code",
      "execution_count": null,
      "id": "276a4f10",
      "metadata": {
        "ExecuteTime": {
          "end_time": "2022-11-08T12:34:25.765649Z",
          "start_time": "2022-11-08T12:34:25.760582Z"
        },
        "id": "276a4f10"
      },
      "outputs": [],
      "source": [
        "iris_df['target'] = iris.target"
      ]
    },
    {
      "cell_type": "code",
      "execution_count": null,
      "id": "d2a3e4b2",
      "metadata": {
        "ExecuteTime": {
          "end_time": "2022-11-08T12:34:25.772641Z",
          "start_time": "2022-11-08T12:34:25.768039Z"
        },
        "id": "d2a3e4b2"
      },
      "outputs": [],
      "source": [
        "iris_df.columns"
      ]
    },
    {
      "cell_type": "code",
      "execution_count": null,
      "id": "86b4f21b",
      "metadata": {
        "ExecuteTime": {
          "end_time": "2022-11-08T12:34:25.795897Z",
          "start_time": "2022-11-08T12:34:25.775132Z"
        },
        "id": "86b4f21b"
      },
      "outputs": [],
      "source": [
        "display(iris_df.head())\n",
        "display(iris_df.tail())"
      ]
    },
    {
      "cell_type": "code",
      "execution_count": null,
      "id": "55ba9bda",
      "metadata": {
        "ExecuteTime": {
          "end_time": "2022-11-08T12:34:25.804483Z",
          "start_time": "2022-11-08T12:34:25.799304Z"
        },
        "id": "55ba9bda"
      },
      "outputs": [],
      "source": [
        "iris_df.target.unique()"
      ]
    },
    {
      "cell_type": "code",
      "execution_count": null,
      "id": "c4c94a4a",
      "metadata": {
        "ExecuteTime": {
          "end_time": "2022-11-08T12:34:25.858223Z",
          "start_time": "2022-11-08T12:34:25.853004Z"
        },
        "id": "c4c94a4a"
      },
      "outputs": [],
      "source": [
        "iris.target_names"
      ]
    },
    {
      "cell_type": "code",
      "source": [
        "iris_df.shape"
      ],
      "metadata": {
        "id": "OoVzAO0Yzbp4"
      },
      "id": "OoVzAO0Yzbp4",
      "execution_count": null,
      "outputs": []
    },
    {
      "cell_type": "code",
      "source": [
        "iris.target"
      ],
      "metadata": {
        "id": "pneodKRxzOcI"
      },
      "id": "pneodKRxzOcI",
      "execution_count": null,
      "outputs": []
    },
    {
      "cell_type": "code",
      "execution_count": null,
      "id": "c58db4f5",
      "metadata": {
        "ExecuteTime": {
          "end_time": "2022-11-08T12:34:27.638725Z",
          "start_time": "2022-11-08T12:34:27.345027Z"
        },
        "pycharm": {
          "name": "#%%\n"
        },
        "id": "c58db4f5"
      },
      "outputs": [],
      "source": [
        "# побудуйте діаграми розсіювання для вдох інших колонок в цих даних\n",
        "\n",
        "col_x = 'sepal length (cm)'\n",
        "col_y = 'sepal width (cm)'\n",
        "color_feature = 'petal length (cm)'\n",
        "\n",
        "plt.figure(figsize=(8,4))\n",
        "plt.scatter(iris_df[col_x], iris_df[col_y], alpha=0.2,\n",
        "            s=100*iris_df[color_feature], c=iris.target)\n",
        "plt.xlabel(col_x)\n",
        "plt.ylabel(col_y)\n",
        "plt.colorbar();\n",
        "# вивести легенду кольорів у скатерплоті в матплотліб не вийде, тільки colorbar значень"
      ]
    },
    {
      "cell_type": "markdown",
      "id": "b8ff9a50",
      "metadata": {
        "pycharm": {
          "name": "#%% md\n"
        },
        "id": "b8ff9a50"
      },
      "source": [
        "Ми бачимо, що цей графік розсіювання дав нам можливість одночасно дослідити чотири різні виміри даних:  \n",
        "- положення (x, y) кожної точки відповідає довжині та ширині чашолистка,\n",
        "- розмір точки пов'язаний із шириною пелюстки,\n",
        "- а колір залежить від конкретного виду квітки.   \n",
        "\n",
        "Такі багатоколірні та багатоелементні точкові діаграми можуть бути корисними як під час дослідження, так і для представлення даних."
      ]
    },
    {
      "cell_type": "markdown",
      "id": "5b7771ea",
      "metadata": {
        "pycharm": {
          "name": "#%% md\n"
        },
        "id": "5b7771ea"
      },
      "source": [
        "## Гістрограми та графік щільності"
      ]
    },
    {
      "cell_type": "markdown",
      "id": "0c357152",
      "metadata": {
        "pycharm": {
          "name": "#%% md\n"
        },
        "id": "0c357152"
      },
      "source": [
        "Гістограма візуалізує розподіл даних протягом безперервного інтервалу. Кожен стовпчик на гістограмі представляє частоту для кожного інтервалу/біна даних.\n",
        "Гістограми допомагають оцінити, де зосереджені значення, які крайні значення та чи є прогалини чи незвичні значення. Вони також корисні для надання приблизного уявлення про розподіл ймовірностей.\n",
        "\n",
        "\n",
        "Для повторнення або освоєння основ теорії ймовірностей і мат статистики рекомендую [цей підручник українською](https://new.mmf.lnu.edu.ua/wp-content/uploads/2018/02/Lekcii_TIMC.pdf). А з прикладної статистики - [оцей](https://maup.com.ua/assets/files/lib/book/prikladna_statist_2018.pdf)."
      ]
    },
    {
      "cell_type": "markdown",
      "source": [
        "![](https://drive.google.com/uc?export=view&id=1tjQSh1BYPDAJnbDEG9dbfYytJX2ZFmAk)"
      ],
      "metadata": {
        "id": "JxNH1PrWQOPo"
      },
      "id": "JxNH1PrWQOPo"
    },
    {
      "cell_type": "code",
      "execution_count": null,
      "id": "2c9e7649",
      "metadata": {
        "pycharm": {
          "name": "#%%\n"
        },
        "id": "2c9e7649"
      },
      "outputs": [],
      "source": [
        "np.random.seed(10)\n",
        "data = np.random.randn(1000)"
      ]
    },
    {
      "cell_type": "code",
      "execution_count": null,
      "id": "46f7538b",
      "metadata": {
        "pycharm": {
          "name": "#%%\n"
        },
        "id": "46f7538b"
      },
      "outputs": [],
      "source": [
        "data[:5]"
      ]
    },
    {
      "cell_type": "code",
      "execution_count": null,
      "id": "1205869b",
      "metadata": {
        "pycharm": {
          "name": "#%%\n"
        },
        "id": "1205869b"
      },
      "outputs": [],
      "source": [
        "data.min(), data.max()"
      ]
    },
    {
      "cell_type": "code",
      "execution_count": null,
      "id": "154d397e",
      "metadata": {
        "pycharm": {
          "name": "#%%\n"
        },
        "id": "154d397e"
      },
      "outputs": [],
      "source": [
        "type(data)"
      ]
    },
    {
      "cell_type": "code",
      "execution_count": null,
      "id": "64574512",
      "metadata": {
        "pycharm": {
          "name": "#%%\n"
        },
        "id": "64574512"
      },
      "outputs": [],
      "source": [
        "len(data)"
      ]
    },
    {
      "cell_type": "markdown",
      "id": "e335530f",
      "metadata": {
        "pycharm": {
          "name": "#%% md\n"
        },
        "id": "e335530f"
      },
      "source": [
        "Базовий варіант побудови гістограми:"
      ]
    },
    {
      "cell_type": "code",
      "execution_count": null,
      "id": "c9bee055",
      "metadata": {
        "pycharm": {
          "name": "#%%\n"
        },
        "id": "c9bee055"
      },
      "outputs": [],
      "source": [
        "plt.hist(data, bins=20)\n",
        "plt.grid(axis='both', alpha=.3);"
      ]
    },
    {
      "cell_type": "markdown",
      "id": "6bbdd8ec",
      "metadata": {
        "pycharm": {
          "name": "#%% md\n"
        },
        "id": "6bbdd8ec"
      },
      "source": [
        "Функція `hist()` має безліч опцій для налаштування як обчислень, так і відображення.\n",
        "Приклад більш кастомізованої гістограми, яка за рахунок нормалізації вже є графіком щільності:"
      ]
    },
    {
      "cell_type": "markdown",
      "id": "f0b94b90",
      "metadata": {
        "pycharm": {
          "name": "#%% md\n"
        },
        "id": "f0b94b90"
      },
      "source": [
        "https://matplotlib.org/stable/api/_as_gen/matplotlib.pyplot.hist.html"
      ]
    },
    {
      "cell_type": "code",
      "execution_count": null,
      "id": "53f54be5",
      "metadata": {
        "pycharm": {
          "name": "#%%\n"
        },
        "id": "53f54be5"
      },
      "outputs": [],
      "source": [
        "plt.hist(data, bins=20, density=True,\n",
        "         alpha=.5, color='steelblue',\n",
        "         edgecolor='black')\n",
        "plt.grid(axis='both', alpha=.3);"
      ]
    },
    {
      "cell_type": "markdown",
      "id": "146f2f89",
      "metadata": {
        "pycharm": {
          "name": "#%% md\n"
        },
        "id": "146f2f89"
      },
      "source": [
        "Як перейти від значень по вісі ОУ в гістограмі з `density=True` до гістограми з `density=False`."
      ]
    },
    {
      "cell_type": "code",
      "execution_count": null,
      "id": "a1e39d6b",
      "metadata": {
        "pycharm": {
          "name": "#%%\n"
        },
        "id": "a1e39d6b"
      },
      "outputs": [],
      "source": [
        "counts, bins = np.histogram(data, bins=20)"
      ]
    },
    {
      "cell_type": "code",
      "execution_count": null,
      "id": "c3b1d903",
      "metadata": {
        "pycharm": {
          "name": "#%%\n"
        },
        "id": "c3b1d903"
      },
      "outputs": [],
      "source": [
        "bin_size = np.diff(bins)[0]"
      ]
    },
    {
      "cell_type": "code",
      "execution_count": null,
      "id": "08485522",
      "metadata": {
        "pycharm": {
          "name": "#%%\n"
        },
        "id": "08485522"
      },
      "outputs": [],
      "source": [
        "0.29*bin_size*1000"
      ]
    },
    {
      "cell_type": "code",
      "execution_count": null,
      "id": "30f9f74c",
      "metadata": {
        "pycharm": {
          "name": "#%%\n"
        },
        "id": "30f9f74c"
      },
      "outputs": [],
      "source": [
        "counts, bins"
      ]
    },
    {
      "cell_type": "markdown",
      "id": "4207d5c9",
      "metadata": {
        "pycharm": {
          "name": "#%% md\n"
        },
        "id": "4207d5c9"
      },
      "source": [
        "Ось так зручно відображати кілька гістограм на одній панелі для порівняння вибірок:"
      ]
    },
    {
      "cell_type": "code",
      "execution_count": null,
      "id": "f896a5de",
      "metadata": {
        "pycharm": {
          "name": "#%%\n"
        },
        "id": "f896a5de"
      },
      "outputs": [],
      "source": [
        "x1 = np.random.normal(0, 0.8, 1000)\n",
        "x2 = np.random.normal(-2, 1, 1000)\n",
        "x3 = np.random.normal(3, 2, 1000)\n",
        "\n",
        "kwargs = dict(histtype='stepfilled', alpha=0.3, density=True, bins=40)\n",
        "\n",
        "plt.hist(x1, **kwargs)\n",
        "plt.hist(x2, **kwargs)\n",
        "plt.hist(x3, **kwargs);"
      ]
    },
    {
      "cell_type": "markdown",
      "id": "7a910148",
      "metadata": {
        "pycharm": {
          "name": "#%% md\n"
        },
        "id": "7a910148"
      },
      "source": [
        "А взагалі ось так по-різному можна це зробити:"
      ]
    },
    {
      "cell_type": "code",
      "execution_count": null,
      "id": "54401fc1",
      "metadata": {
        "pycharm": {
          "name": "#%%\n"
        },
        "id": "54401fc1"
      },
      "outputs": [],
      "source": [
        "x1 = np.random.normal(0, 0.8, 1000)\n",
        "x2 = np.random.normal(-2, 1, 1000)\n",
        "x3 = np.random.normal(3, 2, 1000)\n",
        "\n",
        "data = [x1, x2, x3]\n",
        "\n",
        "fig, ax = plt.subplots(3)\n",
        "\n",
        "ax[0].hist(data, alpha=0.3, density=True, bins=20)\n",
        "ax[1].hist(data, histtype='stepfilled', alpha=0.3, density=True, bins=40)\n",
        "ax[2].hist(data, histtype='barstacked', alpha=0.3, density=True, bins=40)\n",
        "\n",
        "plt.show()"
      ]
    },
    {
      "cell_type": "markdown",
      "id": "e591c7db",
      "metadata": {
        "pycharm": {
          "name": "#%% md\n"
        },
        "id": "e591c7db"
      },
      "source": [
        "Якщо нам треба просто подивитися на розподіл даних, скільки в який бін потрапило записів, то робимо це за допомогою numpy:"
      ]
    },
    {
      "cell_type": "code",
      "execution_count": null,
      "id": "20ced482",
      "metadata": {
        "pycharm": {
          "name": "#%%\n"
        },
        "id": "20ced482"
      },
      "outputs": [],
      "source": [
        "np.histogram(data, bins=5)"
      ]
    },
    {
      "cell_type": "markdown",
      "id": "fcb3233b",
      "metadata": {
        "pycharm": {
          "name": "#%% md\n"
        },
        "id": "fcb3233b"
      },
      "source": [
        "Я часто для зручності перегляду результату роблю так:"
      ]
    },
    {
      "cell_type": "code",
      "execution_count": null,
      "id": "e99d4b27",
      "metadata": {
        "pycharm": {
          "name": "#%%\n"
        },
        "id": "e99d4b27"
      },
      "outputs": [],
      "source": [
        "df = pd.DataFrame(np.histogram(data, bins=5)).T\n",
        "df.columns=['count', 'x']\n",
        "df"
      ]
    },
    {
      "cell_type": "markdown",
      "id": "79383738",
      "metadata": {
        "pycharm": {
          "name": "#%% md\n"
        },
        "id": "79383738"
      },
      "source": [
        "Це означає, що зі значеннями від -5.393109 до -2.457573 у нас 338 записів."
      ]
    },
    {
      "cell_type": "markdown",
      "id": "4f1ada35",
      "metadata": {
        "pycharm": {
          "name": "#%% md\n"
        },
        "id": "4f1ada35"
      },
      "source": [
        "На даних Iris:"
      ]
    },
    {
      "cell_type": "code",
      "execution_count": null,
      "id": "832f5821",
      "metadata": {
        "pycharm": {
          "name": "#%%\n"
        },
        "id": "832f5821"
      },
      "outputs": [],
      "source": [
        "iris_df"
      ]
    },
    {
      "cell_type": "code",
      "execution_count": null,
      "id": "43ad9598",
      "metadata": {
        "pycharm": {
          "name": "#%%\n"
        },
        "id": "43ad9598"
      },
      "outputs": [],
      "source": [
        "plt.figure(figsize=(12,6))\n",
        "for col in iris_df.columns.drop('target'):\n",
        "    plt.hist(iris_df[col], bins=15, alpha=0.7, label=col)\n",
        "plt.xlabel('Feature value')\n",
        "plt.ylabel('Instance count')\n",
        "plt.legend()\n",
        "plt.show();"
      ]
    },
    {
      "cell_type": "markdown",
      "id": "cc80dcbc",
      "metadata": {
        "pycharm": {
          "name": "#%% md\n"
        },
        "id": "cc80dcbc"
      },
      "source": [
        "## Barplots"
      ]
    },
    {
      "cell_type": "markdown",
      "id": "edd80bef",
      "metadata": {
        "pycharm": {
          "name": "#%% md\n"
        },
        "id": "edd80bef"
      },
      "source": [
        "Іноді нам потрібна не гістограма, а просто стовпчаста діаграма. Стовпчаста діаграма використовує горизонтальні або вертикальні стовпчики для показу дискретних числових порівнянь між категоріями. Одна вісь діаграми показує конкретні категорії, які порівнюються, а інша вісь представляє дискретну шкалу значень."
      ]
    },
    {
      "cell_type": "markdown",
      "source": [
        "![](https://drive.google.com/uc?export=view&id=1K-kK-ghrv_tD4HXx7IfSOJOioTT6sQ1w)"
      ],
      "metadata": {
        "id": "xRQDdXlbQdqN"
      },
      "id": "xRQDdXlbQdqN"
    },
    {
      "cell_type": "code",
      "execution_count": null,
      "id": "e0f5bd05",
      "metadata": {
        "pycharm": {
          "name": "#%%\n"
        },
        "id": "e0f5bd05"
      },
      "outputs": [],
      "source": [
        "fig = plt.figure()\n",
        "ax = fig.add_axes([0,0,1,1])\n",
        "langs = ['C', 'C++', 'Java', 'Python', 'PHP']\n",
        "students = [23, 17, 35, 29, 12]\n",
        "ax.bar(langs, students)\n",
        "plt.show()"
      ]
    },
    {
      "cell_type": "markdown",
      "id": "f20ad22a",
      "metadata": {
        "pycharm": {
          "name": "#%% md\n"
        },
        "id": "f20ad22a"
      },
      "source": [
        "Можемо порівняти візуально дані за допомогою стовпчастої діаграми:"
      ]
    },
    {
      "cell_type": "code",
      "execution_count": null,
      "id": "1e2ac608",
      "metadata": {
        "pycharm": {
          "name": "#%%\n"
        },
        "id": "1e2ac608"
      },
      "outputs": [],
      "source": [
        "data = [[5., 25., 50., 20.],\n",
        "      [4., 23., 51., 17.],\n",
        "      [6., 22., 52., 19.]]\n",
        "\n",
        "X = np.arange(4)\n",
        "plt.bar(X + 0.00, data[0], color = 'b', width = 0.25, alpha=0.5)\n",
        "plt.bar(X + 0.25, data[1], color = 'g', width = 0.25, alpha=0.5)\n",
        "plt.bar(X + 0.50, data[2], color = 'r', width = 0.25, alpha=0.5)\n",
        "\n",
        "plt.show()"
      ]
    },
    {
      "cell_type": "markdown",
      "id": "3619443d",
      "metadata": {
        "pycharm": {
          "name": "#%% md\n"
        },
        "id": "3619443d"
      },
      "source": [
        "Те ж саме можемо зробити через `ax` методи. І давайте обернемо дані в DataFrame замість Numpy array."
      ]
    },
    {
      "cell_type": "code",
      "execution_count": null,
      "id": "924869c2",
      "metadata": {
        "pycharm": {
          "name": "#%%\n"
        },
        "id": "924869c2"
      },
      "outputs": [],
      "source": [
        "data_df = pd.DataFrame(data, columns=range(2018,2022))"
      ]
    },
    {
      "cell_type": "code",
      "execution_count": null,
      "id": "397d1650",
      "metadata": {
        "pycharm": {
          "name": "#%%\n"
        },
        "id": "397d1650"
      },
      "outputs": [],
      "source": [
        "data_df"
      ]
    },
    {
      "cell_type": "code",
      "execution_count": null,
      "id": "bba85ff1",
      "metadata": {
        "pycharm": {
          "name": "#%%\n"
        },
        "id": "bba85ff1"
      },
      "outputs": [],
      "source": [
        "X = np.arange(4)\n",
        "fig = plt.figure()\n",
        "ax = fig.add_axes([0,0,1,1])\n",
        "ax.bar(X + 0.00, data_df.loc[0], color = 'b', width = 0.25, alpha=0.5)\n",
        "ax.bar(X + 0.25, data_df.loc[1], color = 'g', width = 0.25, alpha=0.5)\n",
        "ax.bar(X + 0.50, data_df.loc[2], color = 'r', width = 0.25, alpha=0.5);"
      ]
    },
    {
      "cell_type": "markdown",
      "id": "da6d70e0",
      "metadata": {
        "pycharm": {
          "name": "#%% md\n"
        },
        "id": "da6d70e0"
      },
      "source": [
        "У випадку з DataFrame ми можемо відобразити дані простіше:"
      ]
    },
    {
      "cell_type": "code",
      "execution_count": null,
      "id": "98ed6181",
      "metadata": {
        "pycharm": {
          "name": "#%%\n"
        },
        "id": "98ed6181"
      },
      "outputs": [],
      "source": [
        "data_df.T"
      ]
    },
    {
      "cell_type": "code",
      "execution_count": null,
      "id": "669daac9",
      "metadata": {
        "pycharm": {
          "name": "#%%\n"
        },
        "id": "669daac9"
      },
      "outputs": [],
      "source": [
        "data_df.T.plot.bar(figsize=(10,6));"
      ]
    },
    {
      "cell_type": "markdown",
      "id": "91203bb0",
      "metadata": {
        "pycharm": {
          "name": "#%% md\n"
        },
        "id": "91203bb0"
      },
      "source": [
        "# Візуалізація в Pandas"
      ]
    },
    {
      "cell_type": "markdown",
      "id": "8c455642",
      "metadata": {
        "pycharm": {
          "name": "#%% md\n"
        },
        "id": "8c455642"
      },
      "source": [
        "Pandas має методи візуалізації датафреймів, які є надбудовою над Matplotlib. Наприклад, побудуємо гістрограми та діаграми розсіяння для Iris."
      ]
    },
    {
      "cell_type": "code",
      "execution_count": null,
      "id": "c9f86def",
      "metadata": {
        "pycharm": {
          "name": "#%%\n"
        },
        "id": "c9f86def"
      },
      "outputs": [],
      "source": [
        "iris_df[:10]"
      ]
    },
    {
      "cell_type": "code",
      "execution_count": null,
      "id": "09096970",
      "metadata": {
        "pycharm": {
          "name": "#%%\n"
        },
        "id": "09096970"
      },
      "outputs": [],
      "source": [
        "iris_df.columns"
      ]
    },
    {
      "cell_type": "code",
      "execution_count": null,
      "id": "ce6c2712",
      "metadata": {
        "pycharm": {
          "name": "#%%\n"
        },
        "id": "ce6c2712"
      },
      "outputs": [],
      "source": [
        "iris_df['sepal length (cm)'].hist()\n",
        "plt.xlabel('sepal length (cm)')\n",
        "plt.ylabel('Counts')\n",
        ";"
      ]
    },
    {
      "cell_type": "markdown",
      "id": "e4bddd1f",
      "metadata": {
        "pycharm": {
          "name": "#%% md\n"
        },
        "id": "e4bddd1f"
      },
      "source": [
        "Отак в одну команду ми вивели гістограми всіх колонок в датафреймі. А може можна і попарні скатерплоти так вивести в одну команду? Можна!  \n",
        "Метод `scatter_matrix` дає змогу візуалізувати парні залежності між ознаками та розподіл кожної ознаки на діагоналі."
      ]
    },
    {
      "cell_type": "code",
      "execution_count": null,
      "id": "75d4764b",
      "metadata": {
        "pycharm": {
          "name": "#%%\n"
        },
        "id": "75d4764b"
      },
      "outputs": [],
      "source": [
        "pd.plotting.scatter_matrix(iris_df, c=iris.target, figsize=(10, 10), marker='o',\n",
        "                        hist_kwds={'bins': 20}, s=60, alpha=.8);"
      ]
    },
    {
      "cell_type": "markdown",
      "id": "0716d8c5",
      "metadata": {
        "pycharm": {
          "name": "#%% md\n"
        },
        "id": "0716d8c5"
      },
      "source": [
        "Щоправда легенда таким способом виводиться криво."
      ]
    },
    {
      "cell_type": "code",
      "execution_count": null,
      "id": "89331d00",
      "metadata": {
        "pycharm": {
          "name": "#%%\n"
        },
        "id": "89331d00"
      },
      "outputs": [],
      "source": [
        "plt.figure()\n",
        "plt.imshow([np.unique(iris.target)])\n",
        "_ = plt.xticks(ticks=np.unique(iris.target),labels=iris.target_names)"
      ]
    },
    {
      "cell_type": "markdown",
      "id": "eb83556d",
      "metadata": {
        "pycharm": {
          "name": "#%% md\n"
        },
        "id": "eb83556d"
      },
      "source": [
        "### Box plot\n",
        "\n",
        "Корисним також є графік типу **box plot** (\"ящик з вусами\"). Він дає змогу компактно візуалізувати основні характеристики (медіану, нижній і верхній квартилі, мінімальне і максимальне значення, викиди) розподілу ознак.\n",
        "\n",
        "Лінії, що йдуть паралельно від прямокутників, відомі як «вуса», які використовуються для позначення мінливості за межами верхнього та нижнього квартилів. Викиди іноді відображаються як окремі точки, розташовані на одній лінії з вусами. Коробкові діаграми можна малювати вертикально або горизонтально.\n",
        "\n",
        "Хоча прямокутні діаграми можуть здаватися примітивними порівняно з гістограмою або графіком щільності, вони мають перевагу в тому, що займають менше місця, що корисно під час порівняння розподілу між багатьма групами чи наборами даних.\n",
        "\n",
        "Ось типи спостережень, які можна зробити, переглядаючи Box Plot:\n",
        "\n",
        "- Які ключові значення, наприклад: середнє, медіана, 25-й процентиль тощо.\n",
        "- Чи є викиди та які їх значення.\n",
        "- Симетричні дані чи ні.\n",
        "- Наскільки щільно згруповані дані.\n",
        "- Дані спотворені? Якщо так, то в якому напрямку.\n"
      ]
    },
    {
      "cell_type": "markdown",
      "source": [
        "![](https://drive.google.com/uc?export=view&id=1h_jUfQha3dSQBckDhp909Eiw2abLBy4M)"
      ],
      "metadata": {
        "id": "pCXG0awxQzX1"
      },
      "id": "pCXG0awxQzX1"
    },
    {
      "cell_type": "code",
      "execution_count": null,
      "id": "dbe68b12",
      "metadata": {
        "pycharm": {
          "name": "#%%\n"
        },
        "id": "dbe68b12"
      },
      "outputs": [],
      "source": [
        "iris_df.hist(figsize=(10,6))\n",
        "plt.tight_layout();"
      ]
    },
    {
      "cell_type": "code",
      "execution_count": null,
      "id": "04fa5451",
      "metadata": {
        "pycharm": {
          "name": "#%%\n"
        },
        "id": "04fa5451"
      },
      "outputs": [],
      "source": [
        "iris_df[['petal length (cm)', 'target']].hist('petal length (cm)');"
      ]
    },
    {
      "cell_type": "code",
      "execution_count": null,
      "id": "77a7b3b7",
      "metadata": {
        "pycharm": {
          "name": "#%%\n"
        },
        "id": "77a7b3b7"
      },
      "outputs": [],
      "source": [
        "iris_df.boxplot(by='target', figsize=(10,10));"
      ]
    },
    {
      "cell_type": "markdown",
      "id": "e4570a10",
      "metadata": {
        "pycharm": {
          "name": "#%% md\n"
        },
        "id": "e4570a10"
      },
      "source": [
        "# Візуалізація в Seaborn"
      ]
    },
    {
      "cell_type": "markdown",
      "id": "aee2b768",
      "metadata": {
        "pycharm": {
          "name": "#%% md\n"
        },
        "id": "aee2b768"
      },
      "source": [
        "Поглянемо, як всі ці самі візуалізації ми можемо побудувати з допомогою seaborn."
      ]
    },
    {
      "cell_type": "code",
      "execution_count": null,
      "id": "ef172ba2",
      "metadata": {
        "pycharm": {
          "name": "#%%\n"
        },
        "id": "ef172ba2"
      },
      "outputs": [],
      "source": [
        "import seaborn as sns"
      ]
    },
    {
      "cell_type": "code",
      "execution_count": null,
      "id": "0ce4a308",
      "metadata": {
        "pycharm": {
          "name": "#%%\n"
        },
        "id": "0ce4a308"
      },
      "outputs": [],
      "source": [
        "sns.set_theme()"
      ]
    },
    {
      "cell_type": "markdown",
      "id": "a654d77e",
      "metadata": {
        "pycharm": {
          "name": "#%% md\n"
        },
        "id": "a654d77e"
      },
      "source": [
        "Можна будувати отакі красиві візуалізації:"
      ]
    },
    {
      "cell_type": "code",
      "execution_count": null,
      "id": "761d7eeb",
      "metadata": {
        "pycharm": {
          "name": "#%%\n"
        },
        "id": "761d7eeb"
      },
      "outputs": [],
      "source": [
        "sns.jointplot(data=iris_df, x=\"sepal length (cm)\", y=\"sepal width (cm)\", hue=\"target\");"
      ]
    },
    {
      "cell_type": "markdown",
      "id": "e1ef77cc",
      "metadata": {
        "pycharm": {
          "name": "#%% md\n"
        },
        "id": "e1ef77cc"
      },
      "source": [
        "У seaborn `pairplot` - аналог `scatter_matrix` у pandas.plotting."
      ]
    },
    {
      "cell_type": "code",
      "execution_count": null,
      "id": "4d067dba",
      "metadata": {
        "pycharm": {
          "name": "#%%\n"
        },
        "id": "4d067dba"
      },
      "outputs": [],
      "source": [
        "plt.figure(figsize=(5,5))\n",
        "sns.pairplot(data=iris_df, hue=\"target\");"
      ]
    },
    {
      "cell_type": "markdown",
      "id": "c3bc787d",
      "metadata": {
        "pycharm": {
          "name": "#%% md\n"
        },
        "id": "c3bc787d"
      },
      "source": [
        "## Модифікації pairplot"
      ]
    },
    {
      "cell_type": "markdown",
      "id": "60a73f48",
      "metadata": {
        "pycharm": {
          "name": "#%% md\n"
        },
        "id": "60a73f48"
      },
      "source": [
        "У pairplot є багато параметрів, з якими можна погратись. Розглянемо найбільш вживану модифікацію стандартного відображення."
      ]
    },
    {
      "cell_type": "code",
      "execution_count": null,
      "id": "59c8b705",
      "metadata": {
        "pycharm": {
          "name": "#%%\n"
        },
        "id": "59c8b705"
      },
      "outputs": [],
      "source": [
        "from scipy.stats import pearsonr\n",
        "\n",
        "def reg_coef(x,y,label=None,color=None,**kwargs):\n",
        "    ax = plt.gca()\n",
        "    r,p = pearsonr(x,y)\n",
        "    ax.annotate('r = {:.2f}'.format(r), xy=(0.5,0.5), xycoords='axes fraction', ha='center')\n",
        "    ax.set_axis_off()"
      ]
    },
    {
      "cell_type": "code",
      "execution_count": null,
      "id": "3d26f0ef",
      "metadata": {
        "pycharm": {
          "name": "#%%\n"
        },
        "id": "3d26f0ef"
      },
      "outputs": [],
      "source": [
        "g = sns.PairGrid(iris_df)\n",
        "\n",
        "g.map_diag(sns.histplot)\n",
        "g.map_lower(sns.regplot)\n",
        "g.map_upper(reg_coef);"
      ]
    },
    {
      "cell_type": "markdown",
      "id": "e8756626",
      "metadata": {
        "pycharm": {
          "name": "#%% md\n"
        },
        "id": "e8756626"
      },
      "source": [
        "## Налаштування в seaborn"
      ]
    },
    {
      "cell_type": "markdown",
      "id": "82da7037",
      "metadata": {
        "pycharm": {
          "name": "#%% md\n"
        },
        "id": "82da7037"
      },
      "source": [
        "Можна встановлювати зафарбовування точок у параметрі `hue`."
      ]
    },
    {
      "cell_type": "code",
      "execution_count": null,
      "id": "6b4aafdc",
      "metadata": {
        "pycharm": {
          "name": "#%%\n"
        },
        "id": "6b4aafdc"
      },
      "outputs": [],
      "source": [
        "iris_df.columns"
      ]
    },
    {
      "cell_type": "code",
      "execution_count": null,
      "id": "72cc4ecb",
      "metadata": {
        "pycharm": {
          "name": "#%%\n"
        },
        "id": "72cc4ecb"
      },
      "outputs": [],
      "source": [
        "sns.scatterplot(\n",
        "    data=iris_df,\n",
        "    x='sepal length (cm)', y='sepal width (cm)', hue='target'\n",
        ");"
      ]
    },
    {
      "cell_type": "markdown",
      "id": "0a6f2ea2",
      "metadata": {
        "pycharm": {
          "name": "#%% md\n"
        },
        "id": "0a6f2ea2"
      },
      "source": [
        "Можемо змінювати тему і додавати налаштування:"
      ]
    },
    {
      "cell_type": "code",
      "execution_count": null,
      "id": "3bfe0005",
      "metadata": {
        "pycharm": {
          "name": "#%%\n"
        },
        "id": "3bfe0005"
      },
      "outputs": [],
      "source": [
        "sns.set_theme(style=\"ticks\", font_scale=1.25)\n",
        "g = sns.relplot(\n",
        "    data=iris_df,\n",
        "    x='sepal length (cm)', y='sepal width (cm)', hue='target',\n",
        "    palette=\"crest\", marker=\"^\", s=100,\n",
        ")\n",
        "g.set_axis_labels(\"Sepal length (cm)\", \"Sepal width (cm)\")\n",
        "g.legend.set_title(\"Iris type\")\n",
        "g.figure.set_size_inches(6.5, 4.5)\n",
        "g.ax.margins(.15)\n",
        "g.despine(trim=True);"
      ]
    },
    {
      "cell_type": "markdown",
      "id": "f820a7de",
      "metadata": {
        "pycharm": {
          "name": "#%% md\n"
        },
        "id": "f820a7de"
      },
      "source": [
        "## Теплова мапа"
      ]
    },
    {
      "cell_type": "markdown",
      "id": "71f7e769",
      "metadata": {
        "pycharm": {
          "name": "#%% md\n"
        },
        "id": "71f7e769"
      },
      "source": [
        "Побудуємо графік кореляцій із тепловим забарвленням."
      ]
    },
    {
      "cell_type": "code",
      "execution_count": null,
      "id": "22fcf56c",
      "metadata": {
        "pycharm": {
          "name": "#%%\n"
        },
        "id": "22fcf56c"
      },
      "outputs": [],
      "source": [
        "corr_data = iris_df.drop('target', axis=1)"
      ]
    },
    {
      "cell_type": "code",
      "execution_count": null,
      "id": "9c2f6a61",
      "metadata": {
        "pycharm": {
          "name": "#%%\n"
        },
        "id": "9c2f6a61"
      },
      "outputs": [],
      "source": [
        "corr_data.corr()"
      ]
    },
    {
      "cell_type": "code",
      "execution_count": null,
      "id": "b316be24",
      "metadata": {
        "pycharm": {
          "name": "#%%\n"
        },
        "id": "b316be24"
      },
      "outputs": [],
      "source": [
        "plt.figure(figsize=(10, 8))\n",
        "matrix = np.triu(corr_data.corr())\n",
        "sns.heatmap(corr_data.corr(), annot=True, linewidth=.8, mask=matrix, cmap=\"rocket\");"
      ]
    },
    {
      "cell_type": "markdown",
      "id": "08051566",
      "metadata": {
        "pycharm": {
          "name": "#%% md\n"
        },
        "id": "08051566"
      },
      "source": [
        "## matplotlib vs seaborn"
      ]
    },
    {
      "cell_type": "markdown",
      "id": "ef806601",
      "metadata": {
        "pycharm": {
          "name": "#%% md\n"
        },
        "id": "ef806601"
      },
      "source": [
        "Хоча ви можете працювати продуктивно, використовуючи лише функції seaborn, повне налаштування вашої графіки потребуватиме певних знань концепцій та API matplotlib.  \n",
        "Одним з аспектів кривої навчання для нових користувачів seaborn буде знання того, що для досягнення конкретного налаштування необхідно перейти на рівень matplotlib.   \n",
        "З іншого боку, користувачі, які прийшли з matplotlib, виявлять, що більша частина їхніх знань застосовна до seaborn.\n",
        "\n",
        "Matplotlib має всеосяжний і потужний API; практично будь-який атрибут фігури можна змінити на свій смак.   \n",
        "Комбінація високорівневого інтерфейсу seaborn і широких можливостей налаштування matplotlib дасть вам змогу як  \n",
        "швидко досліджувати свої дані, так і створювати графіку, яка може бути адаптована в кінцевий продукт публікаційної якості."
      ]
    },
    {
      "cell_type": "markdown",
      "id": "3426d8df",
      "metadata": {
        "pycharm": {
          "name": "#%% md\n"
        },
        "id": "3426d8df"
      },
      "source": [
        "# Візуалізація time series"
      ]
    },
    {
      "cell_type": "code",
      "execution_count": null,
      "id": "aee63aeb",
      "metadata": {
        "pycharm": {
          "name": "#%%\n"
        },
        "id": "aee63aeb"
      },
      "outputs": [],
      "source": [
        "# Завантажимо дані\n",
        "df = pd.read_csv('https://github.com/selva86/datasets/raw/master/AirPassengers.csv')"
      ]
    },
    {
      "cell_type": "code",
      "execution_count": null,
      "id": "d5986c25",
      "metadata": {
        "pycharm": {
          "name": "#%%\n"
        },
        "id": "d5986c25"
      },
      "outputs": [],
      "source": [
        "df.shape"
      ]
    },
    {
      "cell_type": "code",
      "execution_count": null,
      "id": "6d7ffde2",
      "metadata": {
        "pycharm": {
          "name": "#%%\n"
        },
        "id": "6d7ffde2"
      },
      "outputs": [],
      "source": [
        "df.head()"
      ]
    },
    {
      "cell_type": "markdown",
      "id": "ef170166",
      "metadata": {
        "pycharm": {
          "name": "#%% md\n"
        },
        "id": "ef170166"
      },
      "source": [
        "Будуємо простий графік:"
      ]
    },
    {
      "cell_type": "code",
      "execution_count": null,
      "id": "503df706",
      "metadata": {
        "pycharm": {
          "name": "#%%\n"
        },
        "id": "503df706"
      },
      "outputs": [],
      "source": [
        "plt.figure(figsize=(8,5), dpi=80)\n",
        "plt.plot('value', data=df);"
      ]
    },
    {
      "cell_type": "markdown",
      "id": "08dbb371",
      "metadata": {
        "pycharm": {
          "name": "#%% md\n"
        },
        "id": "08dbb371"
      },
      "source": [
        "Окей, але нам хочеться побачити дати."
      ]
    },
    {
      "cell_type": "code",
      "execution_count": null,
      "id": "e620e911",
      "metadata": {
        "pycharm": {
          "name": "#%%\n"
        },
        "id": "e620e911"
      },
      "outputs": [],
      "source": [
        "plt.figure(figsize=(8,5), dpi= 80)\n",
        "plt.plot('date', 'value', data=df);"
      ]
    },
    {
      "cell_type": "markdown",
      "id": "0cda3708",
      "metadata": {
        "pycharm": {
          "name": "#%% md\n"
        },
        "id": "0cda3708"
      },
      "source": [
        "Погано відображаються підписи."
      ]
    },
    {
      "cell_type": "code",
      "execution_count": null,
      "id": "a31cbdeb",
      "metadata": {
        "pycharm": {
          "name": "#%%\n"
        },
        "id": "a31cbdeb"
      },
      "outputs": [],
      "source": [
        "df.date.loc[0]"
      ]
    },
    {
      "cell_type": "code",
      "execution_count": null,
      "id": "b3e8260b",
      "metadata": {
        "pycharm": {
          "name": "#%%\n"
        },
        "id": "b3e8260b"
      },
      "outputs": [],
      "source": [
        "df.index.tolist()[::12]"
      ]
    },
    {
      "cell_type": "code",
      "execution_count": null,
      "id": "23d0786e",
      "metadata": {
        "pycharm": {
          "name": "#%%\n"
        },
        "id": "23d0786e"
      },
      "outputs": [],
      "source": [
        "[x[:4] for x in df.date.tolist()[::12]]"
      ]
    },
    {
      "cell_type": "code",
      "execution_count": null,
      "id": "05b31430",
      "metadata": {
        "pycharm": {
          "name": "#%%\n"
        },
        "id": "05b31430"
      },
      "outputs": [],
      "source": [
        "plt.figure(figsize=(16,10), dpi=80)\n",
        "plt.plot('date', 'value', data=df)\n",
        "\n",
        "xtick_location = df.index.tolist()[::12]\n",
        "xtick_labels = [x[:4] for x in df.date.tolist()[::12]]\n",
        "plt.xticks(ticks=xtick_location, labels=xtick_labels, rotation=0, fontsize=12, horizontalalignment='center', alpha=.7)\n",
        "plt.yticks(fontsize=12, alpha=.7)\n",
        "\n",
        "plt.title(\"Air Passengers Traffic (1949 - 1969)\", fontsize=22)\n",
        "plt.xlabel('Year')\n",
        "plt.ylabel('Number of passengers')\n",
        "\n",
        "plt.grid(axis='both', alpha=.3) # для зручності перегляду\n",
        "plt.show()"
      ]
    },
    {
      "cell_type": "markdown",
      "id": "82e90205",
      "metadata": {
        "pycharm": {
          "name": "#%% md\n"
        },
        "id": "82e90205"
      },
      "source": [
        "Альтренативно можемо побудувати таку візуалізацію з pandas.plotting."
      ]
    },
    {
      "cell_type": "code",
      "execution_count": null,
      "id": "99192682",
      "metadata": {
        "pycharm": {
          "name": "#%%\n"
        },
        "id": "99192682"
      },
      "outputs": [],
      "source": [
        "df.plot('date','value', figsize=(10,6));"
      ]
    },
    {
      "cell_type": "markdown",
      "id": "8234b3ee",
      "metadata": {
        "pycharm": {
          "name": "#%% md\n"
        },
        "id": "8234b3ee"
      },
      "source": [
        "Варіант за замовченням вже непоганий. Але можемо зробити ще зручніше та гарніше змінвши тип даних дати і встановивши її індексом."
      ]
    },
    {
      "cell_type": "code",
      "execution_count": null,
      "id": "b641704b",
      "metadata": {
        "pycharm": {
          "name": "#%%\n"
        },
        "id": "b641704b"
      },
      "outputs": [],
      "source": [
        "df.date = pd.to_datetime(df.date)\n",
        "df.set_index('date', inplace=True)"
      ]
    },
    {
      "cell_type": "markdown",
      "id": "7db1a76a",
      "metadata": {
        "pycharm": {
          "name": "#%% md\n"
        },
        "id": "7db1a76a"
      },
      "source": [
        "Переглянемо, який зараз вигляд мають дані."
      ]
    },
    {
      "cell_type": "code",
      "execution_count": null,
      "id": "12cb321c",
      "metadata": {
        "pycharm": {
          "name": "#%%\n"
        },
        "id": "12cb321c"
      },
      "outputs": [],
      "source": [
        "df[:5]"
      ]
    },
    {
      "cell_type": "code",
      "execution_count": null,
      "id": "793cf134",
      "metadata": {
        "pycharm": {
          "name": "#%%\n"
        },
        "id": "793cf134"
      },
      "outputs": [],
      "source": [
        "df.value.plot(figsize=(10,6));"
      ]
    },
    {
      "cell_type": "markdown",
      "id": "d9860e61",
      "metadata": {
        "pycharm": {
          "name": "#%% md\n"
        },
        "id": "d9860e61"
      },
      "source": [
        "## matplotlib vs seaborn"
      ]
    },
    {
      "cell_type": "markdown",
      "id": "2aa6e0d4",
      "metadata": {
        "pycharm": {
          "name": "#%% md\n"
        },
        "id": "2aa6e0d4"
      },
      "source": [
        "Хоча ви можете працювати продуктивно, використовуючи лише функції seaborn, повне налаштування вашої графіки потребуватиме певних знань концепцій та API matplotlib.  \n",
        "Одним з аспектів кривої навчання для нових користувачів seaborn буде знання того, що для досягнення конкретного налаштування необхідно перейти на рівень matplotlib.   \n",
        "З іншого боку, користувачі, які прийшли з matplotlib, виявлять, що більша частина їхніх знань застосовна до seaborn.\n",
        "\n",
        "Matplotlib має всеосяжний і потужний API; практично будь-який атрибут фігури можна змінити на свій смак.   \n",
        "Комбінація високорівневого інтерфейсу seaborn і широких можливостей налаштування matplotlib дасть вам змогу як  \n",
        "швидко досліджувати свої дані, так і створювати графіку, яка може бути адаптована в кінцевий продукт публікаційної якості."
      ]
    },
    {
      "cell_type": "markdown",
      "id": "b2957474",
      "metadata": {
        "pycharm": {
          "name": "#%% md\n"
        },
        "id": "b2957474"
      },
      "source": [
        "# Візуалізація time series"
      ]
    },
    {
      "cell_type": "code",
      "execution_count": null,
      "id": "a1ed1551",
      "metadata": {
        "pycharm": {
          "name": "#%%\n"
        },
        "id": "a1ed1551"
      },
      "outputs": [],
      "source": [
        "# Завантажимо дані\n",
        "df = pd.read_csv('https://github.com/selva86/datasets/raw/master/AirPassengers.csv')"
      ]
    },
    {
      "cell_type": "code",
      "execution_count": null,
      "id": "fce26008",
      "metadata": {
        "pycharm": {
          "name": "#%%\n"
        },
        "id": "fce26008"
      },
      "outputs": [],
      "source": [
        "df.shape"
      ]
    },
    {
      "cell_type": "code",
      "execution_count": null,
      "id": "77ed2e6d",
      "metadata": {
        "pycharm": {
          "name": "#%%\n"
        },
        "id": "77ed2e6d"
      },
      "outputs": [],
      "source": [
        "df.head()"
      ]
    },
    {
      "cell_type": "markdown",
      "id": "04e4c10f",
      "metadata": {
        "pycharm": {
          "name": "#%% md\n"
        },
        "id": "04e4c10f"
      },
      "source": [
        "Будуємо простий графік:"
      ]
    },
    {
      "cell_type": "code",
      "execution_count": null,
      "id": "8afbc7ee",
      "metadata": {
        "pycharm": {
          "name": "#%%\n"
        },
        "id": "8afbc7ee"
      },
      "outputs": [],
      "source": [
        "plt.figure(figsize=(8,5), dpi=80)\n",
        "plt.plot('value', data=df);"
      ]
    },
    {
      "cell_type": "markdown",
      "id": "e5a75428",
      "metadata": {
        "pycharm": {
          "name": "#%% md\n"
        },
        "id": "e5a75428"
      },
      "source": [
        "Окей, але нам хочеться побачити дати."
      ]
    },
    {
      "cell_type": "code",
      "execution_count": null,
      "id": "db0e71ba",
      "metadata": {
        "pycharm": {
          "name": "#%%\n"
        },
        "id": "db0e71ba"
      },
      "outputs": [],
      "source": [
        "plt.figure(figsize=(8,5), dpi= 80)\n",
        "plt.plot('date', 'value', data=df);"
      ]
    },
    {
      "cell_type": "markdown",
      "id": "3d13f593",
      "metadata": {
        "pycharm": {
          "name": "#%% md\n"
        },
        "id": "3d13f593"
      },
      "source": [
        "Погано відображаються підписи."
      ]
    },
    {
      "cell_type": "code",
      "execution_count": null,
      "id": "bbe83556",
      "metadata": {
        "pycharm": {
          "name": "#%%\n"
        },
        "id": "bbe83556"
      },
      "outputs": [],
      "source": [
        "df.date.loc[0]"
      ]
    },
    {
      "cell_type": "code",
      "execution_count": null,
      "id": "cb56d3b7",
      "metadata": {
        "pycharm": {
          "name": "#%%\n"
        },
        "id": "cb56d3b7"
      },
      "outputs": [],
      "source": [
        "df.index.tolist()[::12]"
      ]
    },
    {
      "cell_type": "code",
      "execution_count": null,
      "id": "9f8250b1",
      "metadata": {
        "pycharm": {
          "name": "#%%\n"
        },
        "id": "9f8250b1"
      },
      "outputs": [],
      "source": [
        "[x[:4] for x in df.date.tolist()[::12]]"
      ]
    },
    {
      "cell_type": "code",
      "execution_count": null,
      "id": "40962abe",
      "metadata": {
        "pycharm": {
          "name": "#%%\n"
        },
        "id": "40962abe"
      },
      "outputs": [],
      "source": [
        "plt.figure(figsize=(16,10), dpi=80)\n",
        "plt.plot('date', 'value', data=df)\n",
        "\n",
        "xtick_location = df.index.tolist()[::12]\n",
        "xtick_labels = [x[:4] for x in df.date.tolist()[::12]]\n",
        "plt.xticks(ticks=xtick_location, labels=xtick_labels, rotation=0, fontsize=12, horizontalalignment='center', alpha=.7)\n",
        "plt.yticks(fontsize=12, alpha=.7)\n",
        "\n",
        "plt.title(\"Air Passengers Traffic (1949 - 1969)\", fontsize=22)\n",
        "plt.xlabel('Year')\n",
        "plt.ylabel('Number of passengers')\n",
        "\n",
        "plt.grid(axis='both', alpha=.3) # для зручності перегляду\n",
        "plt.show()"
      ]
    },
    {
      "cell_type": "markdown",
      "id": "55b4aa58",
      "metadata": {
        "pycharm": {
          "name": "#%% md\n"
        },
        "id": "55b4aa58"
      },
      "source": [
        "Альтренативно можемо побудувати таку візуалізацію з pandas.plotting."
      ]
    },
    {
      "cell_type": "code",
      "execution_count": null,
      "id": "991ca5cc",
      "metadata": {
        "pycharm": {
          "name": "#%%\n"
        },
        "id": "991ca5cc"
      },
      "outputs": [],
      "source": [
        "df.plot('date','value', figsize=(10,6));"
      ]
    },
    {
      "cell_type": "markdown",
      "id": "515688d5",
      "metadata": {
        "pycharm": {
          "name": "#%% md\n"
        },
        "id": "515688d5"
      },
      "source": [
        "Варіант за замовченням вже непоганий. Але можемо зробити ще зручніше та гарніше змінвши тип даних дати і встановивши її індексом."
      ]
    },
    {
      "cell_type": "code",
      "execution_count": null,
      "id": "e78e72c9",
      "metadata": {
        "pycharm": {
          "name": "#%%\n"
        },
        "id": "e78e72c9"
      },
      "outputs": [],
      "source": [
        "df.date = pd.to_datetime(df.date)\n",
        "df.set_index('date', inplace=True)"
      ]
    },
    {
      "cell_type": "markdown",
      "id": "0e53b885",
      "metadata": {
        "pycharm": {
          "name": "#%% md\n"
        },
        "id": "0e53b885"
      },
      "source": [
        "Переглянемо, який зараз вигляд мають дані."
      ]
    },
    {
      "cell_type": "code",
      "execution_count": null,
      "id": "5124bbb2",
      "metadata": {
        "pycharm": {
          "name": "#%%\n"
        },
        "id": "5124bbb2"
      },
      "outputs": [],
      "source": [
        "df[:5]"
      ]
    },
    {
      "cell_type": "code",
      "execution_count": null,
      "id": "619dd5c7",
      "metadata": {
        "pycharm": {
          "name": "#%%\n"
        },
        "id": "619dd5c7"
      },
      "outputs": [],
      "source": [
        "df.value.plot(figsize=(10,6));"
      ]
    }
  ],
  "metadata": {
    "kernelspec": {
      "display_name": "Python 3 (ipykernel)",
      "language": "python",
      "name": "python3"
    },
    "language_info": {
      "codemirror_mode": {
        "name": "ipython",
        "version": 3
      },
      "file_extension": ".py",
      "mimetype": "text/x-python",
      "name": "python",
      "nbconvert_exporter": "python",
      "pygments_lexer": "ipython3",
      "version": "3.10.4"
    },
    "toc": {
      "base_numbering": 1,
      "nav_menu": {},
      "number_sections": true,
      "sideBar": true,
      "skip_h1_title": false,
      "title_cell": "Table of Contents",
      "title_sidebar": "Contents",
      "toc_cell": false,
      "toc_position": {
        "height": "calc(100% - 180px)",
        "left": "10px",
        "top": "150px",
        "width": "398.212px"
      },
      "toc_section_display": true,
      "toc_window_display": false
    },
    "vscode": {
      "interpreter": {
        "hash": "a6511e6b41b26ba86cca7483749cf4dd15bf137a2672e550741a656e19bba82e"
      }
    },
    "colab": {
      "provenance": [],
      "toc_visible": true,
      "include_colab_link": true
    }
  },
  "nbformat": 4,
  "nbformat_minor": 5
}